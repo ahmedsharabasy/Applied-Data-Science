{
 "cells": [
  {
   "cell_type": "code",
   "execution_count": 57,
   "id": "c028215a",
   "metadata": {},
   "outputs": [],
   "source": [
    "import csv\n",
    "from bs4 import BeautifulSoup\n",
    "import lxml\n",
    "import requests  \n",
    "from itertools import zip_longest"
   ]
  },
  {
   "cell_type": "code",
   "execution_count": 58,
   "id": "1792239a",
   "metadata": {},
   "outputs": [],
   "source": [
    "\n",
    "results = requests.get(\"https://hubfurniture.com.eg/en/\")\n",
    "src =results.content \n",
    "soup=BeautifulSoup(src, 'lxml')"
   ]
  },
  {
   "cell_type": "code",
   "execution_count": 89,
   "id": "5acf66c6",
   "metadata": {},
   "outputs": [],
   "source": [
    "#product_category\n",
    "category=[]\n",
    "category_link=[]\n",
    "ul=soup.find(\"ul\",{\"class\":\"ui-menu\"})\n",
    "all_categ = ul.find_all(\"li\")\n",
    "for li in range(len(all_categ)):\n",
    "    category.append(all_categ[li].find(\"span\").text.strip())\n",
    "    \n",
    "    category_link.append(all_categ[li].find(\"a\").attrs['href'])"
   ]
  },
  {
   "cell_type": "code",
   "execution_count": 95,
   "id": "029bf778",
   "metadata": {},
   "outputs": [
    {
     "name": "stdout",
     "output_type": "stream",
     "text": [
      "['U-Shape', 'L-Shape', 'Sofa Set', 'Recliner Sofa Sets', 'TV Tables']\n",
      "['https://hubfurniture.com.eg/en/living-room-furniture/living-room-furniture/u-shape-sofa', 'https://hubfurniture.com.eg/en/living-room-furniture/living-room-furniture/l-shape-sofa', 'https://hubfurniture.com.eg/en/living-room-furniture/living-room-furniture/living-room-sets-sofa-sets', 'https://hubfurniture.com.eg/en/living-room-furniture/living-room-furniture/recliner-sofa-sets', 'https://hubfurniture.com.eg/en/living-room-furniture/living-room-furniture/tv-tables']\n"
     ]
    }
   ],
   "source": [
    "sub_category=[]\n",
    "sub_category_link=[]\n",
    "\n",
    "for link in links:\n",
    "    result = requests.get(link)\n",
    "    src = result.content\n",
    "    soupp = BeautifulSoup(src, 'lxml')\n",
    "    \n",
    "    ul2 = soupp.find(\"ul\",{\"class\":\"mm-submenu level2\"})\n",
    "    all_subs = ul2.find_all(\"li\",{\"class\":\"item ui-menu-item\"})\n",
    "    for li in range(len(all_subs)):\n",
    "        sub_category.append(all_subs[li].find(\"a\").text.strip())\n",
    "        sub_category_link.append(all_subs[li].find(\"a\").attrs['href'])\n",
    "    \n",
    "sub_category = sub_category[:5]\n",
    "sub_category_link = sub_category_link[:5]"
   ]
  },
  {
   "cell_type": "code",
   "execution_count": null,
   "id": "d64afd6c",
   "metadata": {},
   "outputs": [],
   "source": [
    "sub_category=[]\n",
    "sub_category_link=[]\n",
    "\n",
    "for link in links:\n",
    "    result = requests.get(link)\n",
    "    src = result.content\n",
    "    soupp = BeautifulSoup(src, 'lxml')\n",
    "    \n",
    "    ul2 = soupp.find(\"ul\",{\"class\":\"mm-submenu level2\"})\n",
    "    all_subs = ul2.find_all(\"li\",{\"class\":\"item ui-menu-item\"})\n",
    "    for li in range(len(all_subs)):\n",
    "        sub_category.append(all_subs[li].find(\"a\").text.strip())\n",
    "        sub_category_link.append(all_subs[li].find(\"a\").attrs['href'])\n",
    "    \n",
    "sub_category = sub_category[:5]\n",
    "sub_category_link = sub_category_link[:5]"
   ]
  },
  {
   "cell_type": "code",
   "execution_count": null,
   "id": "42631b81",
   "metadata": {},
   "outputs": [],
   "source": []
  },
  {
   "cell_type": "code",
   "execution_count": null,
   "id": "6d1052d4",
   "metadata": {},
   "outputs": [],
   "source": [
    "file_list=[title,company,location,skills,links_end]\n",
    "output=zip_longest(*file_list)\n",
    "\n",
    "with open(\"C:\\\\Users\\\\20100\\\\Desktop\\\\data science\\\\Applied Data Science\\\\Web Scrabing\\\\Wuzzuf\\\\wazzuf.csv\",\"w\") as f:\n",
    "    wr = csv.writer(f)\n",
    "    wr.writerow([\"job title\",\"job company\",\"job location\",\"job skills\",\"links\"])\n",
    "    wr.writerows(output)"
   ]
  }
 ],
 "metadata": {
  "kernelspec": {
   "display_name": "Python 3 (ipykernel)",
   "language": "python",
   "name": "python3"
  },
  "language_info": {
   "codemirror_mode": {
    "name": "ipython",
    "version": 3
   },
   "file_extension": ".py",
   "mimetype": "text/x-python",
   "name": "python",
   "nbconvert_exporter": "python",
   "pygments_lexer": "ipython3",
   "version": "3.9.13"
  }
 },
 "nbformat": 4,
 "nbformat_minor": 5
}
