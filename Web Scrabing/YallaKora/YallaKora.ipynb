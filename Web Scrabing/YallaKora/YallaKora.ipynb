{
 "cells": [
  {
   "cell_type": "code",
   "execution_count": 1,
   "id": "3888f9f0-e909-478d-8cbf-b1ea6fdac93d",
   "metadata": {},
   "outputs": [],
   "source": [
    "import csv\n",
    "from bs4 import BeautifulSoup\n",
    "import lxml\n",
    "import requests  \n"
   ]
  },
  {
   "cell_type": "code",
   "execution_count": 4,
   "id": "9a239e5c-5830-4e7b-8a11-dbc94c06df3f",
   "metadata": {},
   "outputs": [
    {
     "name": "stdout",
     "output_type": "stream",
     "text": [
      "finish\n"
     ]
    }
   ],
   "source": [
    "date = input(\"Enter date of matches: mm/dd/yyyy\")\n",
    "page = requests.get(f\"https://www.yallakora.com/match-center/%D9%85%D8%B1%D9%83%D8%B2-%D8%A7%D9%84%D9%85%D8%A8%D8%A7%D8%B1%D9%8A%D8%A7%D8%AA?date={date}#days\")\n",
    "\n",
    "def main(page):\n",
    "    src =page.content   # all code > byte code\n",
    "    soup=BeautifulSoup(src, 'lxml')\n",
    "    matches_details=[]\n",
    "    championships=soup.find_all(\"div\",{'class':'matchCard'})     #find_all > looks at tag's decendants\n",
    "    \n",
    "    def get_match_info(championships):\n",
    "        championships_title=championships.contents[1].find(\"h2\").text.strip()          #A tag’s children are available in a list called .contents\n",
    "        all_matches=championships.contents[3].find_all('li')\n",
    "        num_of_matches=len(all_matches)\n",
    "        \n",
    "        for i in range(num_of_matches):\n",
    "            #get matches names\n",
    "            teamA = all_matches[i].find(\"div\",{'class':'teamA'}).text.strip()\n",
    "            teamB = all_matches[i].find(\"div\",{'class':'teamB'}).text.strip()\n",
    "            \n",
    "            #get matches score\n",
    "            match_results = all_matches[i].find(\"div\",{'class':'MResult'}).find_all(\"span\",{'class':'score'})\n",
    "            score = f\"{match_results[0].text.strip()} - {match_results[1].text.strip()}\"\n",
    "            \n",
    "            #get matches time\n",
    "            time = all_matches[i].find(\"div\",{'class':'MResult'}).find(\"span\",{'class':'time'}).text.strip()\n",
    "\n",
    "            #add matchs info to matches_details\n",
    "            matches_details.append({\"نوع البطولة\":championships_title,\"الفريق الاول\":teamA,\"الفريق الثانى\":teamB,\"ميعاد المباراة\":time,\"نتيجة المباراة\":score})\n",
    "        \n",
    "    for j in range(len(championships)):     \n",
    "        get_match_info(championships[j])\n",
    "        \n",
    "    #to csv file\n",
    "    keys = matches_details[0].keys()\n",
    "    with open(\"C:\\\\Users\\\\20100\\\\Desktop\\\\data science\\\\Applied Data Science\\\\Web Scrabing\\\\YallaKora\\\\matches_details.csv\" , \"w\" , encoding='utf-8') as output_file:\n",
    "        dictWriter = csv.DictWriter(output_file , keys)\n",
    "        dictWriter.writeheader()\n",
    "        dictWriter.writerows(matches_details)\n",
    "        print(\"finish\")\n",
    "    \n",
    "main(page)  "
   ]
  },
  {
   "cell_type": "code",
   "execution_count": null,
   "id": "a47adfda-78e7-48ce-bc9d-6ad9199c9353",
   "metadata": {},
   "outputs": [],
   "source": []
  }
 ],
 "metadata": {
  "kernelspec": {
   "display_name": "Python 3 (ipykernel)",
   "language": "python",
   "name": "python3"
  },
  "language_info": {
   "codemirror_mode": {
    "name": "ipython",
    "version": 3
   },
   "file_extension": ".py",
   "mimetype": "text/x-python",
   "name": "python",
   "nbconvert_exporter": "python",
   "pygments_lexer": "ipython3",
   "version": "3.11.1"
  }
 },
 "nbformat": 4,
 "nbformat_minor": 5
}
