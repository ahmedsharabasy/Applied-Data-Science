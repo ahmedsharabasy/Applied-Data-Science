{
 "cells": [
  {
   "cell_type": "code",
   "execution_count": 5,
   "id": "6bafaa9f-0029-4c8f-9332-3260873e5696",
   "metadata": {},
   "outputs": [],
   "source": [
    "import numpy as np"
   ]
  },
  {
   "cell_type": "markdown",
   "id": "f9072c65-588a-4ed5-9262-0eb1b8bea957",
   "metadata": {},
   "source": [
    "<h5>X = (hours studying, hours sleeping), y = score on test,<br>\n",
    " xPredicted = 4 hours studying & 8 hours sleeping (input data for prediction),<br>\n",
    "    what is ypredict?? (result of exam depend on xpredicted)</h5>"
   ]
  },
  {
   "cell_type": "code",
   "execution_count": 9,
   "id": "e1599096-f2ed-4e31-bd07-aeb9a51c96d5",
   "metadata": {},
   "outputs": [],
   "source": [
    "class Neural_Network(object):\n",
    "    def __init__(self):\n",
    "        #parameters\n",
    "        self.inputSize = 2      # 2 features \n",
    "        self.hiddenSize = 3\n",
    "        self.outputSize = 1     # result of exam\n",
    "        \n",
    "        #np.random.rand is for Uniform distribution (in the half-open interval [0.0, 1.0))\n",
    "        #np.random.randn is for Normal distribution (mean 0 and variance 1)  ## best for deep learning \n",
    "        \n",
    "        #weights    # 2W => one for input , another for outpyt\n",
    "        self.W1 = np.random.randn(self.inputSize, self.hiddenSize) # (2x3) weight matrix from input to hidden layer\n",
    "        # print(self.W1)\n",
    "        self.W2 = np.random.randn(self.hiddenSize, self.outputSize) # (3x1) weight matrix from hidden to output layer\n",
    "        # print(self.W2)\n",
    "        \n",
    "    def forward(self, X):\n",
    "        self.z = np.dot(X, self.W1)          # z of x\n",
    "        self.z2 = self.sigmoid(self.z)       # activation function > a of input\n",
    "        self.z3 = np.dot(self.z2, self.W2)   # z of a\n",
    "        o = self.sigmoid(self.z3)            # final activation function  > a of output > h(theata)\n",
    "        return o\n",
    "    \n",
    "    def sigmoid(self, s):\n",
    "        # activation function\n",
    "        return 1/(1+np.exp(-s))\n",
    "    \n",
    "    def sigmoidPrime(self, s):              # a of output\n",
    "        #derivative of sigmoid   \n",
    "        return s * (1 - s)\n",
    "    \n",
    "    def backward(self, X, y, o):\n",
    "        self.o_error = y - o # error in output\n",
    "        self.o_delta = self.o_error*self.sigmoidPrime(o) # applying derivative of sigmoid to a output\n",
    "        self.z2_error = self.o_delta.dot(self.W2.T) # z2 error: how much our hidden layer weights contributed to output error\n",
    "        self.z2_delta = self.z2_error*self.sigmoidPrime(self.z2) # applying derivative of igmoid to a input\n",
    "        self.W1 += X.T.dot(self.z2_delta)      \n",
    "        self.W2 += self.z2.T.dot(self.o_delta)  \n",
    "        \n",
    "    def train(self, X, y):\n",
    "        o = self.forward(X)\n",
    "        self.backward(X, y, o)\n",
    "        \n",
    "    def saveWeights(self):\n",
    "        np.savetxt(\"w1 of second project.txt\", self.W1, fmt=\"%s\")\n",
    "        np.savetxt(\"w2 of second project.txt\", self.W2, fmt=\"%s\")\n",
    "        \n",
    "    def predict(self):\n",
    "        print (\"Predicted data based on trained weights: \")\n",
    "        print (\"\\tInput (scaled): \" + str(xPredicted))\n",
    "        print (\"\\tOutput: \" + str(self.forward(xPredicted)))"
   ]
  },
  {
   "cell_type": "code",
   "execution_count": 10,
   "id": "bed101aa-8d19-4020-99fc-edbdb302f286",
   "metadata": {},
   "outputs": [],
   "source": [
    "# X = (hours studying, hours sleeping), y = score on test,\n",
    " # xPredicted = 4 hours studying & 8 hours sleeping (input data for prediction)\n",
    "X = np.array(([2, 9], [1, 5], [3, 6]), dtype=float)\n",
    "y = np.array(([92], [86], [89]), dtype=float)\n",
    "xPredicted = np.array(([4,8]), dtype=float)\n",
    "\n",
    "######## scale units ##########\n",
    "\n",
    "#print(X)\n",
    "X = X/np.amax(X, axis=0) # maximum of X array\n",
    "#print(X)\n",
    "\n",
    "#print(xPredicted)\n",
    "xPredicted = xPredicted/np.amax(xPredicted, axis=0) # maximum of xPredicted (hours)\n",
    "#print(xPredicted)\n",
    "\n",
    "y = y/100 # max test score is 100"
   ]
  },
  {
   "cell_type": "code",
   "execution_count": 18,
   "id": "31b9aeaf-8eac-411b-aeac-c53a3c4bee9b",
   "metadata": {},
   "outputs": [
    {
     "name": "stdout",
     "output_type": "stream",
     "text": [
      "Predicted data based on trained weights: \n",
      "\tInput (scaled): [0.5 1. ]\n",
      "\tOutput: [0.91820759]\n"
     ]
    }
   ],
   "source": [
    "NN = Neural_Network()\n",
    "for i in range(100000): # trains the NN 1,000 times\n",
    "    # print (\"# \" + str(i) + \"\\n\")\n",
    "    # print (\"Input (scaled): \\n\" + str(X))\n",
    "    # print (\"Actual Output: \\n\" + str(y))\n",
    "    # print (\"Predicted Output: \\n\" + str(NN.forward(X)))\n",
    "    # print (\"Loss: \\n\" + str(np.mean(np.square(y - NN.forward(X))))+\"\\n\" )# mean sum squared loss\n",
    "    NN.train(X, y)\n",
    "    \n",
    "    \n",
    "NN.saveWeights()\n",
    "NN.predict()"
   ]
  },
  {
   "cell_type": "code",
   "execution_count": null,
   "id": "84529159-2011-4637-a496-ec0f3154ac86",
   "metadata": {},
   "outputs": [],
   "source": []
  }
 ],
 "metadata": {
  "kernelspec": {
   "display_name": "Python 3 (ipykernel)",
   "language": "python",
   "name": "python3"
  },
  "language_info": {
   "codemirror_mode": {
    "name": "ipython",
    "version": 3
   },
   "file_extension": ".py",
   "mimetype": "text/x-python",
   "name": "python",
   "nbconvert_exporter": "python",
   "pygments_lexer": "ipython3",
   "version": "3.10.2"
  }
 },
 "nbformat": 4,
 "nbformat_minor": 5
}
