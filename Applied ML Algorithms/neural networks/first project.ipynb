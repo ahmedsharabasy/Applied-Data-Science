{
 "cells": [
  {
   "cell_type": "code",
   "execution_count": 10,
   "id": "29411b89-6b84-4c94-95f5-57a5a35e117d",
   "metadata": {},
   "outputs": [],
   "source": [
    "import numpy as np\n",
    "neuron = 4"
   ]
  },
  {
   "cell_type": "code",
   "execution_count": 11,
   "id": "58f7138f-df95-40b4-8e59-aac6e6a51c1f",
   "metadata": {},
   "outputs": [],
   "source": [
    "def sigmoid(x):\n",
    "    return 1.0/(1+ np.exp(-x))"
   ]
  },
  {
   "cell_type": "code",
   "execution_count": 12,
   "id": "4189a9c8-e235-4bf5-a079-e099ed6e136a",
   "metadata": {},
   "outputs": [],
   "source": [
    "def sigmoid_derivative(x):\n",
    "    return x * (1.0 - x)"
   ]
  },
  {
   "cell_type": "code",
   "execution_count": 13,
   "id": "a8456f0e-8b5a-4b2b-acb9-f830d4e35753",
   "metadata": {},
   "outputs": [],
   "source": [
    "class NeuralNetwork:\n",
    "    def __init__(self, x, y):\n",
    "        self.input = x\n",
    "        print('inputs \\n' , self.input)\n",
    "        print()\n",
    "        self.weights1 = np.random.rand(self.input.shape[1],neuron)\n",
    "        print('weights1 \\n',self.weights1)\n",
    "        print()\n",
    "        self.weights2 = np.random.rand(neuron,1)\n",
    "        print('weights2 \\n',self.weights2)\n",
    "        print()\n",
    "        self.y = y                           # y original\n",
    "        print('y \\n',self.y)\n",
    "        print()\n",
    "        self.output = np.zeros(self.y.shape) # y hat\n",
    "        print('output \\n',self.output)\n",
    "        print()\n",
    "        \n",
    "        \n",
    "    def feedforward(self):\n",
    "        self.layer1 = sigmoid(np.dot(self.input, self.weights1))\n",
    "        #print('layer 1 \\n',self.layer1)\n",
    "        #print()\n",
    "        self.output = sigmoid(np.dot(self.layer1, self.weights2))\n",
    "        #print('output \\n',self.output)\n",
    "        #print()\n",
    "    \n",
    "    \n",
    "    \n",
    "    def backprop(self):\n",
    "        # application of the chain rule to find derivative of the loss function with respect to weights2 and weights1\n",
    "        d_weights2 = np.dot(self.layer1.T, (2*(self.y - self.output) * sigmoid_derivative(self.output)))\n",
    "        #print('d_weights2 \\n',d_weights2 )\n",
    "        #print()\n",
    "        d_weights1 = np.dot(self.input.T,\n",
    "                (np.dot(2*(self.y - self.output) * sigmoid_derivative(self.output),\n",
    "                        self.weights2.T) * sigmoid_derivative(self.layer1)))\n",
    "        # print('d_weights1 \\n',d_weights1)\n",
    "        # update the weights with the derivative (slope) of the loss function\n",
    "        self.weights1 += d_weights1\n",
    "        self.weights2 += d_weights2"
   ]
  },
  {
   "cell_type": "code",
   "execution_count": 14,
   "id": "430b15f2-9126-4d0e-867a-5a1d0bbc07e9",
   "metadata": {},
   "outputs": [],
   "source": [
    "X = np.array([[0,0,1],\n",
    "              [0,1,1],\n",
    "              [1,0,1],\n",
    "              [1,1,1]])\n",
    "\n",
    "y = np.array([[0],\n",
    "              [1],\n",
    "              [1],\n",
    "              [0]])"
   ]
  },
  {
   "cell_type": "code",
   "execution_count": 22,
   "id": "15a9a3f9-c96e-4ce0-beb4-2e8174169638",
   "metadata": {},
   "outputs": [
    {
     "name": "stdout",
     "output_type": "stream",
     "text": [
      "inputs \n",
      " [[0 0 1]\n",
      " [0 1 1]\n",
      " [1 0 1]\n",
      " [1 1 1]]\n",
      "\n",
      "weights1 \n",
      " [[0.84421451 0.93194262 0.34833981 0.25670424]\n",
      " [0.48923417 0.95024494 0.0692262  0.1233968 ]\n",
      " [0.69946225 0.52922706 0.21483794 0.95450215]]\n",
      "\n",
      "weights2 \n",
      " [[0.49612475]\n",
      " [0.53298315]\n",
      " [0.36280165]\n",
      " [0.48833471]]\n",
      "\n",
      "y \n",
      " [[0]\n",
      " [1]\n",
      " [1]\n",
      " [0]]\n",
      "\n",
      "output \n",
      " [[0.]\n",
      " [0.]\n",
      " [0.]\n",
      " [0.]]\n",
      "\n",
      "NN output \n",
      " [[0.00272432]\n",
      " [0.99698872]\n",
      " [0.99736393]\n",
      " [0.00297181]]\n"
     ]
    }
   ],
   "source": [
    "nn = NeuralNetwork(X,y)\n",
    "\n",
    "for i in range(50000):\n",
    "    nn.feedforward()\n",
    "    nn.backprop()\n",
    "    #print('--------result-----------')\n",
    "    #print(nn.output)\n",
    "    #print('++++++++++++++++++++++++++++++++++++++++++')\n",
    "print('NN output \\n',nn.output)    "
   ]
  },
  {
   "cell_type": "code",
   "execution_count": null,
   "id": "2a3c9410-06de-4806-9e07-a5f13e1acbc9",
   "metadata": {},
   "outputs": [],
   "source": []
  }
 ],
 "metadata": {
  "kernelspec": {
   "display_name": "Python 3 (ipykernel)",
   "language": "python",
   "name": "python3"
  },
  "language_info": {
   "codemirror_mode": {
    "name": "ipython",
    "version": 3
   },
   "file_extension": ".py",
   "mimetype": "text/x-python",
   "name": "python",
   "nbconvert_exporter": "python",
   "pygments_lexer": "ipython3",
   "version": "3.10.2"
  }
 },
 "nbformat": 4,
 "nbformat_minor": 5
}
