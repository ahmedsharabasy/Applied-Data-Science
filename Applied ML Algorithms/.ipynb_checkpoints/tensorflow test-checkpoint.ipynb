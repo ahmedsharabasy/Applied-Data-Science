{
 "cells": [
  {
   "cell_type": "code",
   "execution_count": 1,
   "id": "c85d9733-b8bf-4ccf-a391-7219006e1faa",
   "metadata": {},
   "outputs": [
    {
     "data": {
      "text/plain": [
       "'\\n#######  old version   ####### \\nimport tensorflow.compat.v1 as tf\\ntf.disable_v2_behavior()\\n\\nsess=tf.Session()\\nb=tf.constant(5)\\nprint(sess.run(b))\\n'"
      ]
     },
     "execution_count": 1,
     "metadata": {},
     "output_type": "execute_result"
    }
   ],
   "source": [
    "'''\n",
    "التنسر من الاساس Tensor   تعني المصفوفة , و التي قد تكون من بعد واحد او اثنين او ثلاثة و قد تزيد لاربع او خمس ابعاد : \n",
    "\n",
    "\n",
    "1-   edges   \n",
    "الحواف هي مسارات البيانات , والتي ايضا يطلق عليها tensors  و التي جائت من كلمة tension  اي توتر او شد , وهي الكميات الهائلة من البيانات \n",
    "\n",
    "2-   nodes\n",
    "اما الخلايا فهي العمليات الحسابية نفسها ,و الدوال المستخدمة \n",
    "فالتنسر هي المصفوفات عديدة الأبعاد التي تحتوي علي كميات كبيرة من البيانات , والتي تستخدم في تغذية الشبكات العصبية , وباقي الخلايا الحسابية في التعلم العميق \n",
    "\n",
    "3-   rank\n",
    "و من المهم معرفة مصطلحة rank  و الذي يدل علي عدد ابعاد المصفوفة في تنسر فلو سواء صفر او 1 او 2 او اكثر\n",
    "\n",
    "4-   session\n",
    "وهو الاطار الذي يجمع العمليات الحسابية الموجودة في تنسر فلو , حيث ان الكود يتم ترجمته لحواف و خلايا , علي هيئة جراف dataflow graph  , ويتم و ضعه بالكامل في سيشن لتنفيذه \n",
    "\n",
    "5-   Operation\n",
    "وهو ما يطلق علي اي ثابت  constant  او متغيرvariable   او حاجز للمكانplaceholder   او عملية حسابية \n",
    "ويجب العلم ان هذا التكنيك قديم نوعا , و يمكن الاستغناء عنه بكيراس , و ينصح عدد من الخبراء بعدم استخدامه\n",
    "'''\n",
    "\n",
    "\n",
    "'''\n",
    "#######  old version   ####### \n",
    "import tensorflow.compat.v1 as tf\n",
    "tf.disable_v2_behavior()\n",
    "\n",
    "sess=tf.Session()\n",
    "b=tf.constant(5)\n",
    "print(sess.run(b))\n",
    "'''"
   ]
  },
  {
   "cell_type": "code",
   "execution_count": 1,
   "id": "475dd4bb-235b-493f-9ec7-208bc2aa6a9c",
   "metadata": {},
   "outputs": [
    {
     "name": "stdout",
     "output_type": "stream",
     "text": [
      "5\n"
     ]
    }
   ],
   "source": [
    "#######  new version   ####### \n",
    "import tensorflow as tf\n",
    "b= tf.constant(5)\n",
    "tf.print(b)"
   ]
  },
  {
   "cell_type": "code",
   "execution_count": 2,
   "id": "ad9f50fe-94f4-43cd-afaa-8c76361f5d19",
   "metadata": {},
   "outputs": [
    {
     "name": "stdout",
     "output_type": "stream",
     "text": [
      "3\n",
      "3.6\n",
      "[2 5 6 9 3]\n",
      "[[2 5 6]\n",
      " [8 5 8]\n",
      " [4 5 7]]\n",
      "I love tensorflow\n"
     ]
    }
   ],
   "source": [
    "import tensorflow as tf\n",
    "a = tf.constant(3)\n",
    "b = tf.constant(3.60)\n",
    "c = tf.constant([2,5,6,9,3])\n",
    "d = tf.constant([[2,5,6],[8,5,8],[4,5,7]])\n",
    "e = tf.constant('I love tensorflow')\n",
    "tf.print(a)\n",
    "tf.print(b)\n",
    "tf.print(c)\n",
    "tf.print(d)\n",
    "tf.print(e)\n"
   ]
  },
  {
   "cell_type": "code",
   "execution_count": 3,
   "id": "1a71904e-f866-4d70-a07d-340fc6b5bd3d",
   "metadata": {},
   "outputs": [
    {
     "name": "stdout",
     "output_type": "stream",
     "text": [
      "3\n",
      "3\n",
      "[2 5 6 9 6]\n",
      "[[2 5 6]\n",
      " [8 5 8]\n",
      " [8 8 1]]\n",
      "I love TensorFlow\n"
     ]
    }
   ],
   "source": [
    "a = tf.Variable(3)\n",
    "b = tf.Variable(3,tf.float32)\n",
    "c = tf.Variable([2,5,6,9,6])\n",
    "d = tf.Variable([[2,5,6],[8,5,8], [8,8,1]])\n",
    "e = tf.Variable('I love TensorFlow')\n",
    "tf.print(a)\n",
    "tf.print(b)\n",
    "tf.print(c)\n",
    "tf.print(d)\n",
    "tf.print(e)\n"
   ]
  },
  {
   "cell_type": "code",
   "execution_count": 4,
   "id": "ce6fae22-d7d6-426e-b3d6-4c3fed4ff5b3",
   "metadata": {},
   "outputs": [
    {
     "name": "stdout",
     "output_type": "stream",
     "text": [
      "original price is :  20\n"
     ]
    }
   ],
   "source": [
    "price = tf.Variable(20) \n",
    "tf.print('original price is : ',price)"
   ]
  },
  {
   "cell_type": "code",
   "execution_count": 5,
   "id": "a93ee1b1-3566-4644-8a67-f42dace9f49c",
   "metadata": {},
   "outputs": [
    {
     "name": "stdout",
     "output_type": "stream",
     "text": [
      "the price is :  30\n",
      "the price is :  40\n",
      "the price is :  50\n",
      "the price is :  60\n"
     ]
    }
   ],
   "source": [
    "price = tf.Variable(30) \n",
    "tf.print('the price is : ',price)\n",
    "\n",
    "price = tf.Variable(40) \n",
    "tf.print('the price is : ',price)\n",
    "\n",
    "price = tf.Variable(50) \n",
    "tf.print('the price is : ',price)\n",
    "\n",
    "\n",
    "price = tf.Variable(60) \n",
    "tf.print('the price is : ',price)\n"
   ]
  },
  {
   "cell_type": "code",
   "execution_count": 6,
   "id": "104e1f6a-dff8-4ecd-9ffb-d189b01141be",
   "metadata": {},
   "outputs": [
    {
     "name": "stdout",
     "output_type": "stream",
     "text": [
      "WARNING:tensorflow:From C:\\Users\\20100\\AppData\\Local\\Programs\\Python\\Python310\\lib\\site-packages\\tensorflow\\python\\compat\\v2_compat.py:107: disable_resource_variables (from tensorflow.python.ops.variable_scope) is deprecated and will be removed in a future version.\n",
      "Instructions for updating:\n",
      "non-resource variables are not supported in the long term\n",
      "3.0\n"
     ]
    }
   ],
   "source": [
    "import tensorflow.compat.v1 as tf\n",
    "tf.disable_v2_behavior()\n",
    "\n",
    "a = tf.placeholder(tf.float32)\n",
    "with tf.Session() as sess : \n",
    "    result = sess.run(a , feed_dict ={a:3})\n",
    "    print(result)"
   ]
  },
  {
   "cell_type": "code",
   "execution_count": 7,
   "id": "a767d4cf-d32d-4c53-b322-f2f770b6ca55",
   "metadata": {},
   "outputs": [
    {
     "name": "stdout",
     "output_type": "stream",
     "text": [
      "6.0\n"
     ]
    }
   ],
   "source": [
    "import tensorflow.compat.v1 as tf\n",
    "tf.disable_v2_behavior()\n",
    "\n",
    "a = tf.placeholder(tf.float32)\n",
    "b=a*2\n",
    "with tf.Session() as sess : \n",
    "    result = sess.run(b , feed_dict ={a:3})\n",
    "    print(result)"
   ]
  },
  {
   "cell_type": "code",
   "execution_count": 8,
   "id": "07436de8-68d3-4ab7-a710-b2ce2849d82a",
   "metadata": {},
   "outputs": [
    {
     "name": "stdout",
     "output_type": "stream",
     "text": [
      "770.5\n"
     ]
    }
   ],
   "source": [
    "x = tf.placeholder(tf.float32)\n",
    "y = tf.placeholder(tf.float32)\n",
    "z = tf.placeholder(tf.float32)\n",
    "w = tf.placeholder(tf.float32)\n",
    "\n",
    "b = x*2 + 3*y**4 - 4/z + w-9\n",
    "\n",
    "with tf.Session() as sess : \n",
    "    result = sess.run(b , feed_dict ={x:3,y:4,z:8,w:6})\n",
    "    print(result)\n"
   ]
  },
  {
   "cell_type": "code",
   "execution_count": 9,
   "id": "590f3213-581e-4812-b093-c42027305011",
   "metadata": {},
   "outputs": [
    {
     "name": "stdout",
     "output_type": "stream",
     "text": [
      "770.5\n"
     ]
    }
   ],
   "source": [
    "x = tf.placeholder(tf.float32)\n",
    "y = tf.placeholder(tf.float32)\n",
    "z = tf.constant(8,tf.float32)\n",
    "w = tf.constant(6,tf.float32)\n",
    "\n",
    "b = x*2 + 3*y**4 - 4/z + w-9\n",
    "\n",
    "with tf.Session() as sess :\n",
    "    result = sess.run(b , feed_dict ={x:3.0,y:4.0})\n",
    "    print(result)\n"
   ]
  },
  {
   "cell_type": "code",
   "execution_count": 10,
   "id": "9c50e292-eeda-4fbd-9965-3e8b2f6b54b8",
   "metadata": {},
   "outputs": [
    {
     "name": "stdout",
     "output_type": "stream",
     "text": [
      "[  25.   64.  100. 2500.]\n"
     ]
    }
   ],
   "source": [
    "x = tf.placeholder(tf.float32)\n",
    "y = x**2\n",
    "with tf.Session() as sess :\n",
    "    print(sess.run(y, {x:[5,8,10,50]}))\n"
   ]
  },
  {
   "cell_type": "code",
   "execution_count": 11,
   "id": "54bc2bbb-1191-4d28-a0e5-75fd58f1f5ba",
   "metadata": {},
   "outputs": [
    {
     "name": "stdout",
     "output_type": "stream",
     "text": [
      "[  25.   36.   49.   64.   81.  100.  121.  144.  169.  196.  225.  256.\n",
      "  289.  324.  361.  400.  441.  484.  529.  576.  625.  676.  729.  784.\n",
      "  841.  900.  961. 1024. 1089. 1156. 1225. 1296. 1369. 1444. 1521. 1600.\n",
      " 1681. 1764. 1849. 1936. 2025. 2116. 2209. 2304. 2401. 2500. 2601. 2704.\n",
      " 2809. 2916. 3025. 3136. 3249. 3364. 3481. 3600. 3721. 3844. 3969. 4096.\n",
      " 4225. 4356. 4489. 4624. 4761. 4900. 5041. 5184. 5329. 5476. 5625. 5776.\n",
      " 5929. 6084. 6241. 6400. 6561. 6724. 6889. 7056. 7225. 7396. 7569. 7744.\n",
      " 7921. 8100. 8281. 8464. 8649. 8836. 9025. 9216. 9409. 9604. 9801.]\n"
     ]
    }
   ],
   "source": [
    "x = tf.placeholder(tf.float32)\n",
    "y = x**2\n",
    "with tf.Session() as sess :\n",
    "    print(sess.run(y, {x:list(range(5,100))}))"
   ]
  },
  {
   "cell_type": "code",
   "execution_count": 12,
   "id": "06a739ff-94e0-4c81-a0a5-f37f89393e53",
   "metadata": {},
   "outputs": [
    {
     "name": "stdout",
     "output_type": "stream",
     "text": [
      "[22. 32. 42. 52.]\n"
     ]
    }
   ],
   "source": [
    "w = tf.constant([5.0])\n",
    "b = tf.Variable([7.0],tf.float32)\n",
    "\n",
    "x = tf.placeholder(tf.float32)\n",
    "\n",
    "LinearRegressionModel = w*x + b\n",
    "\n",
    "with tf.Session() as sess :\n",
    "    sess.run(tf.global_variables_initializer())\n",
    "    print(sess.run(LinearRegressionModel,{x:[3,5,7,9]}))\n"
   ]
  },
  {
   "cell_type": "code",
   "execution_count": 13,
   "id": "20dd35e4-bd99-4b7d-ac02-e16dbbc6be48",
   "metadata": {
    "tags": []
   },
   "outputs": [
    {
     "data": {
      "text/plain": [
       "<tf.Tensor 'Const_3:0' shape=(6,) dtype=int32>"
      ]
     },
     "execution_count": 13,
     "metadata": {},
     "output_type": "execute_result"
    }
   ],
   "source": [
    "# Constant 1-D Tensor from a python list.\n",
    "tf.constant([1, 2, 3, 4, 5, 6])\n",
    "\n"
   ]
  },
  {
   "cell_type": "code",
   "execution_count": 4,
   "id": "39795e96-cc21-47b8-a355-10611a5fddc5",
   "metadata": {},
   "outputs": [
    {
     "data": {
      "text/plain": [
       "<tf.Tensor 'Const:0' shape=(2, 3) dtype=int32>"
      ]
     },
     "execution_count": 4,
     "metadata": {},
     "output_type": "execute_result"
    }
   ],
   "source": [
    "import numpy as np\n",
    "\n",
    "# Or a numpy array\n",
    "a = np.array([[1, 2, 3], [4, 5, 6]])\n",
    "tf.constant(a)\n"
   ]
  },
  {
   "cell_type": "code",
   "execution_count": 15,
   "id": "af114436-618e-4e69-a6f8-ed37aedc81e7",
   "metadata": {},
   "outputs": [
    {
     "name": "stdout",
     "output_type": "stream",
     "text": [
      "1.0\n"
     ]
    }
   ],
   "source": [
    "import tensorflow.compat.v1 as tf\n",
    "tf.disable_v2_behavior()\n",
    "\n",
    "v = tf.Variable(1.)\n",
    "v.assign(2.)\n",
    "\n",
    "v.assign_add(0.5)\n",
    "\n",
    "with tf.Session() as sess:\n",
    "    sess.run(tf.global_variables_initializer())\n",
    "    print(sess.run(v))\n",
    "    "
   ]
  },
  {
   "cell_type": "code",
   "execution_count": 16,
   "id": "131496c4-0d3b-42cb-b896-fa4527a32a87",
   "metadata": {},
   "outputs": [
    {
     "name": "stdout",
     "output_type": "stream",
     "text": [
      "b'hi people '\n"
     ]
    }
   ],
   "source": [
    "s1 = tf.constant('hi ')\n",
    "s2 = tf.constant('people ')\n",
    "s3 = tf.add(s1,s2)\n",
    "\n",
    "sess = tf.Session()\n",
    "print(sess.run(s3))\n"
   ]
  },
  {
   "cell_type": "code",
   "execution_count": 17,
   "id": "a5f28e85-f3b0-4a63-945c-a579a214a2ab",
   "metadata": {},
   "outputs": [
    {
     "name": "stdout",
     "output_type": "stream",
     "text": [
      "50\n"
     ]
    }
   ],
   "source": [
    "s1 = tf.constant(20)\n",
    "s2 = tf.constant(30)\n",
    "s3 = tf.add(s1,s2)\n",
    "\n",
    "sess = tf.Session()\n",
    "print(sess.run(s3))\n",
    "\n"
   ]
  },
  {
   "cell_type": "code",
   "execution_count": 18,
   "id": "13070011-3835-4902-a798-9442ef7d20e3",
   "metadata": {},
   "outputs": [
    {
     "name": "stdout",
     "output_type": "stream",
     "text": [
      "600\n",
      "-10\n",
      "0.6666666666666666\n",
      "8000\n"
     ]
    }
   ],
   "source": [
    "\n",
    "s1 = tf.constant(20)\n",
    "s2 = tf.constant(30)\n",
    "s3 = tf.multiply(s1,s2)\n",
    "\n",
    "sess = tf.Session()\n",
    "print(sess.run(s3))\n",
    "#الطرح\n",
    "\n",
    "s1 = tf.constant(20)\n",
    "s2 = tf.constant(30)\n",
    "s3 = tf.subtract(s1,s2)\n",
    "\n",
    "sess = tf.Session()\n",
    "print(sess.run(s3))\n",
    "#القسمة\n",
    "\n",
    "s1 = tf.constant(20)\n",
    "s2 = tf.constant(30)\n",
    "s3 = tf.divide(s1,s2)\n",
    "\n",
    "sess = tf.Session()\n",
    "print(sess.run(s3))\n",
    "#الأس\n",
    "\n",
    "s1 = tf.constant(20)\n",
    "s2 = tf.constant(3)\n",
    "s3 = tf.pow(s1,s2)\n",
    "\n",
    "sess = tf.Session()\n",
    "print(sess.run(s3))\n"
   ]
  },
  {
   "cell_type": "code",
   "execution_count": 19,
   "id": "66a74219-c88e-4028-b36f-a61735f2de9c",
   "metadata": {},
   "outputs": [
    {
     "name": "stdout",
     "output_type": "stream",
     "text": [
      "[35 36 37 38]\n",
      "[ 6  8 10 12]\n"
     ]
    }
   ],
   "source": [
    "#جمع ليست علي رقم يقوم بجمع كل عنصر من عناصر الليست مع الرقم علي حدة\n",
    "\n",
    "s1 = tf.constant([5,6,7,8])\n",
    "s2 = tf.constant(30)\n",
    "s3 = tf.add(s1,s2)\n",
    "\n",
    "sess = tf.Session()\n",
    "print(sess.run(s3))\n",
    "#جمع ليست علي ليست , يقوم بجمع الارقام المتناظرة\n",
    "\n",
    "s1 = tf.constant([5,6,7,8])\n",
    "s2 = tf.constant([1,2,3,4])\n",
    "s3 = tf.add(s1,s2)\n",
    "\n",
    "sess = tf.Session()\n",
    "print(sess.run(s3))\n",
    "\n"
   ]
  },
  {
   "cell_type": "code",
   "execution_count": 20,
   "id": "2c01367b-746d-4956-b5b9-9733ce03334b",
   "metadata": {},
   "outputs": [
    {
     "name": "stdout",
     "output_type": "stream",
     "text": [
      "[[16.]]\n",
      "[[5 1 7 1]\n",
      " [6 2 9 2]\n",
      " [9 8 5 3]\n",
      " [8 9 6 9]]\n"
     ]
    }
   ],
   "source": [
    "#ضرب المصفوفات\n",
    "\n",
    "matrix1 = tf.constant([[5., 3.]])\n",
    "matrix2 = tf.constant([[2.],\n",
    "                       [2.]])\n",
    "product = tf.matmul(matrix1, matrix2)\n",
    "\n",
    "\n",
    "with tf.Session() as sess:\n",
    "    result = sess.run(product)\n",
    "    print (result)\n",
    "\n",
    "#مقلوب المصفوفة\n",
    "\n",
    "matrix1 = tf.constant([[5,6,9,8],\n",
    "                      [1,2,8,9],\n",
    "                      [7,9,5,6],\n",
    "                      [1,2,3,9]])\n",
    "\n",
    "\n",
    "matrix2 = tf.matrix_transpose(matrix1)\n",
    "\n",
    "with tf.Session() as sess:\n",
    "    result = sess.run(matrix2)\n",
    "    print (result)\n",
    " \n"
   ]
  },
  {
   "cell_type": "code",
   "execution_count": 21,
   "id": "363e2621-713e-442c-ac36-c8bfe60971b9",
   "metadata": {},
   "outputs": [
    {
     "data": {
      "text/plain": [
       "[<tf.Operation 'Placeholder' type=Placeholder>,\n",
       " <tf.Operation 'Placeholder_1' type=Placeholder>,\n",
       " <tf.Operation 'mul/y' type=Const>,\n",
       " <tf.Operation 'mul' type=Mul>,\n",
       " <tf.Operation 'Placeholder_2' type=Placeholder>,\n",
       " <tf.Operation 'Placeholder_3' type=Placeholder>,\n",
       " <tf.Operation 'Placeholder_4' type=Placeholder>,\n",
       " <tf.Operation 'Placeholder_5' type=Placeholder>,\n",
       " <tf.Operation 'mul_1/y' type=Const>,\n",
       " <tf.Operation 'mul_1' type=Mul>,\n",
       " <tf.Operation 'pow/y' type=Const>,\n",
       " <tf.Operation 'pow' type=Pow>,\n",
       " <tf.Operation 'mul_2/x' type=Const>,\n",
       " <tf.Operation 'mul_2' type=Mul>,\n",
       " <tf.Operation 'add' type=AddV2>,\n",
       " <tf.Operation 'truediv/x' type=Const>,\n",
       " <tf.Operation 'truediv' type=RealDiv>,\n",
       " <tf.Operation 'sub' type=Sub>,\n",
       " <tf.Operation 'add_1' type=AddV2>,\n",
       " <tf.Operation 'sub_1/y' type=Const>,\n",
       " <tf.Operation 'sub_1' type=Sub>,\n",
       " <tf.Operation 'Placeholder_6' type=Placeholder>,\n",
       " <tf.Operation 'Placeholder_7' type=Placeholder>,\n",
       " <tf.Operation 'Const' type=Const>,\n",
       " <tf.Operation 'Const_1' type=Const>,\n",
       " <tf.Operation 'mul_3/y' type=Const>,\n",
       " <tf.Operation 'mul_3' type=Mul>,\n",
       " <tf.Operation 'pow_1/y' type=Const>,\n",
       " <tf.Operation 'pow_1' type=Pow>,\n",
       " <tf.Operation 'mul_4/x' type=Const>,\n",
       " <tf.Operation 'mul_4' type=Mul>,\n",
       " <tf.Operation 'add_2' type=AddV2>,\n",
       " <tf.Operation 'truediv_1/x' type=Const>,\n",
       " <tf.Operation 'truediv_1' type=RealDiv>,\n",
       " <tf.Operation 'sub_2' type=Sub>,\n",
       " <tf.Operation 'add_3' type=AddV2>,\n",
       " <tf.Operation 'sub_3/y' type=Const>,\n",
       " <tf.Operation 'sub_3' type=Sub>,\n",
       " <tf.Operation 'Placeholder_8' type=Placeholder>,\n",
       " <tf.Operation 'pow_2/y' type=Const>,\n",
       " <tf.Operation 'pow_2' type=Pow>,\n",
       " <tf.Operation 'Placeholder_9' type=Placeholder>,\n",
       " <tf.Operation 'pow_3/y' type=Const>,\n",
       " <tf.Operation 'pow_3' type=Pow>,\n",
       " <tf.Operation 'Const_2' type=Const>,\n",
       " <tf.Operation 'Variable/initial_value' type=Const>,\n",
       " <tf.Operation 'Variable' type=VariableV2>,\n",
       " <tf.Operation 'Variable/Assign' type=Assign>,\n",
       " <tf.Operation 'Variable/read' type=Identity>,\n",
       " <tf.Operation 'Placeholder_10' type=Placeholder>,\n",
       " <tf.Operation 'mul_5' type=Mul>,\n",
       " <tf.Operation 'add_4' type=AddV2>,\n",
       " <tf.Operation 'init' type=NoOp>,\n",
       " <tf.Operation 'Const_3' type=Const>,\n",
       " <tf.Operation 'Const_4' type=Const>,\n",
       " <tf.Operation 'Variable_1/initial_value' type=Const>,\n",
       " <tf.Operation 'Variable_1' type=VariableV2>,\n",
       " <tf.Operation 'Variable_1/Assign' type=Assign>,\n",
       " <tf.Operation 'Variable_1/read' type=Identity>,\n",
       " <tf.Operation 'Assign/value' type=Const>,\n",
       " <tf.Operation 'Assign' type=Assign>,\n",
       " <tf.Operation 'AssignAdd/value' type=Const>,\n",
       " <tf.Operation 'AssignAdd' type=AssignAdd>,\n",
       " <tf.Operation 'init_1' type=NoOp>,\n",
       " <tf.Operation 'Const_5' type=Const>,\n",
       " <tf.Operation 'Const_6' type=Const>,\n",
       " <tf.Operation 'Add_5' type=Add>,\n",
       " <tf.Operation 'Const_7' type=Const>,\n",
       " <tf.Operation 'Const_8' type=Const>,\n",
       " <tf.Operation 'Add_6' type=AddV2>,\n",
       " <tf.Operation 'Const_9' type=Const>,\n",
       " <tf.Operation 'Const_10' type=Const>,\n",
       " <tf.Operation 'Mul_6' type=Mul>,\n",
       " <tf.Operation 'Const_11' type=Const>,\n",
       " <tf.Operation 'Const_12' type=Const>,\n",
       " <tf.Operation 'Sub_4' type=Sub>,\n",
       " <tf.Operation 'Const_13' type=Const>,\n",
       " <tf.Operation 'Const_14' type=Const>,\n",
       " <tf.Operation 'truediv_2/Cast' type=Cast>,\n",
       " <tf.Operation 'truediv_2/Cast_1' type=Cast>,\n",
       " <tf.Operation 'truediv_2' type=RealDiv>,\n",
       " <tf.Operation 'Const_15' type=Const>,\n",
       " <tf.Operation 'Const_16' type=Const>,\n",
       " <tf.Operation 'Pow_4' type=Pow>,\n",
       " <tf.Operation 'Const_17' type=Const>,\n",
       " <tf.Operation 'Const_18' type=Const>,\n",
       " <tf.Operation 'Add_7' type=AddV2>,\n",
       " <tf.Operation 'Const_19' type=Const>,\n",
       " <tf.Operation 'Const_20' type=Const>,\n",
       " <tf.Operation 'Add_8' type=AddV2>,\n",
       " <tf.Operation 'Const_21' type=Const>,\n",
       " <tf.Operation 'Const_22' type=Const>,\n",
       " <tf.Operation 'MatMul' type=MatMul>,\n",
       " <tf.Operation 'Const_23' type=Const>,\n",
       " <tf.Operation 'matrix_transpose/transpose/perm' type=Const>,\n",
       " <tf.Operation 'matrix_transpose/transpose' type=Transpose>]"
      ]
     },
     "execution_count": 21,
     "metadata": {},
     "output_type": "execute_result"
    }
   ],
   "source": [
    "'''Graph\n",
    "\n",
    "وهي المساحة التي يتم فيها بناء الحواف و الخلايا , لتتكون الشبكة البسيطة او المعقدة في تنسر فلو . \n",
    "'''\n",
    "graph=tf.get_default_graph()\n",
    "graph.get_operations()"
   ]
  },
  {
   "cell_type": "code",
   "execution_count": 22,
   "id": "4ac995ab-199e-4bb5-9148-64bb3289ef04",
   "metadata": {},
   "outputs": [
    {
     "name": "stdout",
     "output_type": "stream",
     "text": [
      "Placeholder\n",
      "Placeholder_1\n",
      "mul/y\n",
      "mul\n",
      "Placeholder_2\n",
      "Placeholder_3\n",
      "Placeholder_4\n",
      "Placeholder_5\n",
      "mul_1/y\n",
      "mul_1\n",
      "pow/y\n",
      "pow\n",
      "mul_2/x\n",
      "mul_2\n",
      "add\n",
      "truediv/x\n",
      "truediv\n",
      "sub\n",
      "add_1\n",
      "sub_1/y\n",
      "sub_1\n",
      "Placeholder_6\n",
      "Placeholder_7\n",
      "Const\n",
      "Const_1\n",
      "mul_3/y\n",
      "mul_3\n",
      "pow_1/y\n",
      "pow_1\n",
      "mul_4/x\n",
      "mul_4\n",
      "add_2\n",
      "truediv_1/x\n",
      "truediv_1\n",
      "sub_2\n",
      "add_3\n",
      "sub_3/y\n",
      "sub_3\n",
      "Placeholder_8\n",
      "pow_2/y\n",
      "pow_2\n",
      "Placeholder_9\n",
      "pow_3/y\n",
      "pow_3\n",
      "Const_2\n",
      "Variable/initial_value\n",
      "Variable\n",
      "Variable/Assign\n",
      "Variable/read\n",
      "Placeholder_10\n",
      "mul_5\n",
      "add_4\n",
      "init\n",
      "Const_3\n",
      "Const_4\n",
      "Variable_1/initial_value\n",
      "Variable_1\n",
      "Variable_1/Assign\n",
      "Variable_1/read\n",
      "Assign/value\n",
      "Assign\n",
      "AssignAdd/value\n",
      "AssignAdd\n",
      "init_1\n",
      "Const_5\n",
      "Const_6\n",
      "Add_5\n",
      "Const_7\n",
      "Const_8\n",
      "Add_6\n",
      "Const_9\n",
      "Const_10\n",
      "Mul_6\n",
      "Const_11\n",
      "Const_12\n",
      "Sub_4\n",
      "Const_13\n",
      "Const_14\n",
      "truediv_2/Cast\n",
      "truediv_2/Cast_1\n",
      "truediv_2\n",
      "Const_15\n",
      "Const_16\n",
      "Pow_4\n",
      "Const_17\n",
      "Const_18\n",
      "Add_7\n",
      "Const_19\n",
      "Const_20\n",
      "Add_8\n",
      "Const_21\n",
      "Const_22\n",
      "MatMul\n",
      "Const_23\n",
      "matrix_transpose/transpose/perm\n",
      "matrix_transpose/transpose\n"
     ]
    }
   ],
   "source": [
    "for operation in graph.get_operations() :\n",
    "    print(operation.name)"
   ]
  },
  {
   "cell_type": "code",
   "execution_count": 23,
   "id": "24ffcf80-02de-4027-9a12-9e8cc192f4ef",
   "metadata": {},
   "outputs": [
    {
     "name": "stdout",
     "output_type": "stream",
     "text": [
      "Tensor(\"Add_9:0\", shape=(), dtype=int32)\n",
      "Tensor(\"Add_10:0\", shape=(2,), dtype=int32)\n",
      "Tensor(\"Square:0\", shape=(), dtype=int32)\n",
      "Tensor(\"Sum:0\", shape=(), dtype=int32)\n",
      "Tensor(\"EncodeBase64:0\", shape=(), dtype=string)\n",
      "Tensor(\"add_11:0\", shape=(), dtype=int32)\n"
     ]
    }
   ],
   "source": [
    "print(tf.add(1, 2))\n",
    "print(tf.add([1, 2], [3, 4]))\n",
    "print(tf.square(5))\n",
    "print(tf.reduce_sum([1, 2, 3]))\n",
    "print(tf.encode_base64(\"hello world\"))\n",
    "print(tf.square(2) + tf.square(3))"
   ]
  },
  {
   "cell_type": "code",
   "execution_count": 24,
   "id": "798156d7-f8f2-4af2-ab17-7324f879f169",
   "metadata": {},
   "outputs": [
    {
     "name": "stdout",
     "output_type": "stream",
     "text": [
      "(1, 2)\n",
      "<dtype: 'int32'>\n"
     ]
    }
   ],
   "source": [
    "x = tf.matmul([[1]], [[2, 3]])\n",
    "print(x.shape)\n",
    "print(x.dtype)"
   ]
  },
  {
   "cell_type": "code",
   "execution_count": 25,
   "id": "230de24b-c491-4cad-a82a-54fddeadca4c",
   "metadata": {},
   "outputs": [],
   "source": [
    "# a = tf.Variable([2.0, 3.0])\n",
    "# b = tf.Variable(a)\n",
    "# a.assign([5, 6])\n",
    "# print(a.numpy())\n",
    "# print(b.numpy())"
   ]
  },
  {
   "cell_type": "markdown",
   "id": "802f6a51-de47-4b02-9323-753976fb4a19",
   "metadata": {},
   "source": [
    "<br><h1> Data files </h1>"
   ]
  },
  {
   "cell_type": "code",
   "execution_count": 27,
   "id": "0fe2ef82-841c-42b0-b13e-463171b65808",
   "metadata": {},
   "outputs": [],
   "source": [
    "import tensorflow as tf\n",
    "import numpy as np\n",
    "import matplotlib.pyplot as plt\n",
    "%matplotlib inline\n",
    "\n",
    "#1\n",
    "(x_train, y_train), (x_test, y_test) = tf.keras.datasets.boston_housing.load_data(path='boston_housing.npz',\n",
    "test_split=0.2,seed=113)   #seed \n",
    "\n",
    "#2\n",
    "'''\n",
    "بيانات صيفار 10 , هي 60 الف صورة عشوائية , 50 للتدريب و 10 للاختبار , و الlabel  هو لعشر صور \n",
    "'''\n",
    "(x_train, y_train), (x_test, y_test) = tf.keras.datasets.cifar10.load_data()\n",
    "\n",
    "#3\n",
    "'''\n",
    "بيانات صيفار 100 , هي 60 الف صورة عشوائية , 50 للتدريب و 10 للاختبار , و الlabel  هو لمائة صورة\n",
    "'''\n",
    "(x_train, y_train), (x_test, y_test) = tf.keras.datasets.cifar100.load_data()\n",
    "\n",
    "#4\n",
    "'''\n",
    "بيانات mnist هي لسبعين الف رقم مكتوب بخط اليد , 60 للتدريب و 10 للاختبار , وقيمة الواي تتراوح بين 0 و 9\n",
    "'''\n",
    "(x_train, y_train), (x_test, y_test) = tf.keras.datasets.mnist.load_data()\n",
    "\n",
    "#5\n",
    "'''\n",
    "بيانات mnist fashion  هي لسبعين الف قطعة ملابس , و قيمة واي تتراوح بين 0 و 9\n",
    "'''\n",
    "(x_train, y_train), (x_test, y_test) = tf.keras.datasets.fashion_mnist.load_data()\n",
    "\n",
    "#6\n",
    "'''\n",
    "بيانات موقع imdb  هي عبارة عن 50 الف تقييم لافلام , و قيمة واي اما 0 او 1\n",
    "'''\n",
    "(x_train, y_train), (x_test, y_test) = tf.keras.datasets.imdb.load_data()\n",
    "\n",
    "#7\n",
    "'''\n",
    "بيانات وكالة انباء رويترز  هي لـ 11 الف خبر صحفي , و قيمة واي هي ل 46 نوع من انواع الاخبار\n",
    "'''\n",
    "(x_train, y_train), (x_test, y_test) = tf.keras.datasets.reuters.load_data()"
   ]
  },
  {
   "cell_type": "markdown",
   "id": "52505687-236a-4a85-9f62-79974cae9d30",
   "metadata": {},
   "source": [
    "<ol><b  style=\"color:red;font-size:150%\">Classification</b> \n",
    "    <li>I have data 0 and 1 need to be classfied</li>\n",
    "    <li>i have equation aX+b=Y so define vars,places of equation,then define equation</li>\n",
    "    <li>split data(x,y) to train and test</li>\n",
    "    <li>i will use patches so split training data to patches</li>\n",
    "    <li>i will use GDO for optimization,it depend on loss func </li>\n",
    "    <li>loss=semgoid(equation)-y   ##semgoid(equation)=y_predict</li>   \n",
    "    <li>make loop for mimimzation</li>    \n",
    "    <li>run optimizer</li>\n",
    "    <li>run loss func, append results to list</li>\n",
    "    <li>run accuracy on train and test data to calc accuracy,it depend on prediction</li>\n",
    "    <li>prediction=h theta(x)=sigmoid(equation)</li>\n",
    "</ol>"
   ]
  },
  {
   "cell_type": "markdown",
   "id": "bf2d708f-69f8-4a1b-8295-4cdfa6e2ff09",
   "metadata": {},
   "source": []
  },
  {
   "cell_type": "markdown",
   "id": "defd51e8-6215-4e16-9222-7af5d54a4078",
   "metadata": {},
   "source": [
    "نتذكر الخطوات المطلوبة لعمل اي موديل في TF هي : \n",
    "<uL>\n",
    "<li>قراءة البيانات وتحديد اسماء الاعمدة</li> \n",
    "<li>تقسيم البيانات</li>\n",
    "<li>معالجة الفيتشرز</li>\n",
    "<li>تحديد دالة المدخلات</li>\n",
    "<li>عمل الكائن</li>\n",
    "<li>التدريب</li>\n",
    "<li>التوقع</li>\n",
    "</ul>"
   ]
  },
  {
   "cell_type": "code",
   "execution_count": null,
   "id": "f1105219-a6f1-4224-a1dc-c70c4e5af3eb",
   "metadata": {},
   "outputs": [],
   "source": []
  },
  {
   "cell_type": "markdown",
   "id": "bd3de10b-03b5-481b-960f-2c0589aff8da",
   "metadata": {},
   "source": [
    "<h1>Keras"
   ]
  },
  {
   "cell_type": "code",
   "execution_count": 4,
   "id": "5a06be12-e662-4483-b362-8a31624c64f3",
   "metadata": {},
   "outputs": [],
   "source": [
    "import tensorflow as tf\n",
    "mnist = tf.keras.datasets.mnist\n",
    "\n",
    "(x_train, y_train),(x_test, y_test) = mnist.load_data()\n",
    "\n",
    "model = tf.keras.models.Sequential([tf.keras.layers.Flatten(),            #طريقة تانية اختصار للطريقة الاولى\n",
    "                                    tf.keras.layers.Dense(128, activation=tf.nn.relu),\n",
    "                                    tf.keras.layers.Dense(128, activation=\ttf.nn.relu),\n",
    "                                    tf.keras.layers.Dense(10, activation=tf.nn.softmax)\n",
    "                                   ])"
   ]
  },
  {
   "cell_type": "code",
   "execution_count": 5,
   "id": "d67bbcf0-6858-4d63-b9e9-e36748b5d772",
   "metadata": {},
   "outputs": [],
   "source": [
    "model.compile(optimizer='adam', loss='sparse_categorical_crossentropy', metrics=['accuracy'])"
   ]
  },
  {
   "cell_type": "code",
   "execution_count": 6,
   "id": "9f2bfaea-23d3-42bc-9662-7f0613f94503",
   "metadata": {},
   "outputs": [
    {
     "name": "stdout",
     "output_type": "stream",
     "text": [
      "Epoch 1/3\n",
      "1875/1875 [==============================] - 4s 2ms/step - loss: 1.5406 - accuracy: 0.8760\n",
      "Epoch 2/3\n",
      "1875/1875 [==============================] - 3s 2ms/step - loss: 0.2551 - accuracy: 0.9353\n",
      "Epoch 3/3\n",
      "1875/1875 [==============================] - 3s 2ms/step - loss: 0.1871 - accuracy: 0.9481\n"
     ]
    },
    {
     "data": {
      "text/plain": [
       "<keras.callbacks.History at 0x19f5971f190>"
      ]
     },
     "execution_count": 6,
     "metadata": {},
     "output_type": "execute_result"
    }
   ],
   "source": [
    "model.fit(x_train, y_train, epochs=3)"
   ]
  },
  {
   "cell_type": "code",
   "execution_count": 7,
   "id": "db336fa7-47fd-4d85-9509-97233a2b9e34",
   "metadata": {},
   "outputs": [
    {
     "name": "stdout",
     "output_type": "stream",
     "text": [
      "313/313 [==============================] - 1s 1ms/step\n"
     ]
    },
    {
     "data": {
      "text/plain": [
       "array([[1.2992075e-27, 1.8642324e-13, 6.9615936e-08, ..., 9.9999988e-01,\n",
       "        1.1794282e-18, 2.3969881e-17],\n",
       "       [1.9496853e-10, 9.3461727e-10, 9.9998844e-01, ..., 5.2574545e-11,\n",
       "        3.5072389e-08, 2.3607250e-11],\n",
       "       [2.5204392e-07, 9.9795747e-01, 8.1998417e-07, ..., 1.9882605e-03,\n",
       "        4.0537711e-06, 2.5733841e-06],\n",
       "       ...,\n",
       "       [5.5843365e-25, 4.0921316e-21, 1.7130308e-17, ..., 3.3735703e-10,\n",
       "        1.1969302e-11, 6.0661316e-11],\n",
       "       [7.8392969e-12, 1.2531753e-18, 3.3935347e-21, ..., 5.5232062e-15,\n",
       "        1.0641912e-05, 1.2984595e-10],\n",
       "       [3.4807605e-20, 1.9240328e-21, 4.8531097e-16, ..., 1.5109255e-17,\n",
       "        1.5507441e-13, 5.6567037e-15]], dtype=float32)"
      ]
     },
     "execution_count": 7,
     "metadata": {},
     "output_type": "execute_result"
    }
   ],
   "source": [
    "model.predict(x_test)"
   ]
  },
  {
   "cell_type": "code",
   "execution_count": 8,
   "id": "434d75c4-6268-4d07-88f0-6bde5cc88867",
   "metadata": {},
   "outputs": [
    {
     "name": "stdout",
     "output_type": "stream",
     "text": [
      "313/313 [==============================] - 1s 1ms/step - loss: 0.2183 - accuracy: 0.9442\n"
     ]
    }
   ],
   "source": [
    "val_loss, val_acc = model.evaluate(x_test, y_test)"
   ]
  }
 ],
 "metadata": {
  "kernelspec": {
   "display_name": "Python 3 (ipykernel)",
   "language": "python",
   "name": "python3"
  },
  "language_info": {
   "codemirror_mode": {
    "name": "ipython",
    "version": 3
   },
   "file_extension": ".py",
   "mimetype": "text/x-python",
   "name": "python",
   "nbconvert_exporter": "python",
   "pygments_lexer": "ipython3",
   "version": "3.10.2"
  }
 },
 "nbformat": 4,
 "nbformat_minor": 5
}
