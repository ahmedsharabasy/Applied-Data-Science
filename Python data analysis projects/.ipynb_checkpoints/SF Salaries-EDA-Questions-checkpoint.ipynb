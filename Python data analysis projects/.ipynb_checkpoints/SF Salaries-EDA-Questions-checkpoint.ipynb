{
 "cells": [
  {
   "cell_type": "markdown",
   "id": "f22fd699-8737-4db2-85ab-d48203b86264",
   "metadata": {},
   "source": [
    "<B>Link to dataset >></B> https://www.kaggle.com/datasets/kaggle/sf-salaries?datasetId=14&sortBy=voteCount&select=Salaries.csv"
   ]
  },
  {
   "cell_type": "markdown",
   "id": "5974b845-069f-430d-8e06-c02c59f35518",
   "metadata": {},
   "source": [
    "<B>Import libiraries >>"
   ]
  },
  {
   "cell_type": "code",
   "execution_count": 167,
   "id": "ab969089-60be-4017-9295-79ab7e7cd7eb",
   "metadata": {},
   "outputs": [],
   "source": [
    "import pandas as pd\n",
    "import numpy as np\n",
    "import matplotlib.pyplot as plt\n",
    "import seaborn as sns"
   ]
  },
  {
   "cell_type": "markdown",
   "id": "ac80ba05-c83b-49ce-8891-f73cc1e477ad",
   "metadata": {},
   "source": [
    "<B>Import Data >>"
   ]
  },
  {
   "cell_type": "code",
   "execution_count": 168,
   "id": "7ee9a69d-326c-4708-aebb-107a50a58606",
   "metadata": {},
   "outputs": [
    {
     "data": {
      "text/html": [
       "<div>\n",
       "<style scoped>\n",
       "    .dataframe tbody tr th:only-of-type {\n",
       "        vertical-align: middle;\n",
       "    }\n",
       "\n",
       "    .dataframe tbody tr th {\n",
       "        vertical-align: top;\n",
       "    }\n",
       "\n",
       "    .dataframe thead th {\n",
       "        text-align: right;\n",
       "    }\n",
       "</style>\n",
       "<table border=\"1\" class=\"dataframe\">\n",
       "  <thead>\n",
       "    <tr style=\"text-align: right;\">\n",
       "      <th></th>\n",
       "      <th>Id</th>\n",
       "      <th>EmployeeName</th>\n",
       "      <th>JobTitle</th>\n",
       "      <th>BasePay</th>\n",
       "      <th>OvertimePay</th>\n",
       "      <th>OtherPay</th>\n",
       "      <th>Benefits</th>\n",
       "      <th>TotalPay</th>\n",
       "      <th>TotalPayBenefits</th>\n",
       "      <th>Year</th>\n",
       "      <th>Notes</th>\n",
       "      <th>Agency</th>\n",
       "      <th>Status</th>\n",
       "    </tr>\n",
       "  </thead>\n",
       "  <tbody>\n",
       "    <tr>\n",
       "      <th>0</th>\n",
       "      <td>1</td>\n",
       "      <td>NATHANIEL FORD</td>\n",
       "      <td>GENERAL MANAGER-METROPOLITAN TRANSIT AUTHORITY</td>\n",
       "      <td>167411.18</td>\n",
       "      <td>0.0</td>\n",
       "      <td>400184.25</td>\n",
       "      <td>NaN</td>\n",
       "      <td>567595.43</td>\n",
       "      <td>567595.43</td>\n",
       "      <td>2011</td>\n",
       "      <td>NaN</td>\n",
       "      <td>San Francisco</td>\n",
       "      <td>NaN</td>\n",
       "    </tr>\n",
       "    <tr>\n",
       "      <th>1</th>\n",
       "      <td>2</td>\n",
       "      <td>GARY JIMENEZ</td>\n",
       "      <td>CAPTAIN III (POLICE DEPARTMENT)</td>\n",
       "      <td>155966.02</td>\n",
       "      <td>245131.88</td>\n",
       "      <td>137811.38</td>\n",
       "      <td>NaN</td>\n",
       "      <td>538909.28</td>\n",
       "      <td>538909.28</td>\n",
       "      <td>2011</td>\n",
       "      <td>NaN</td>\n",
       "      <td>San Francisco</td>\n",
       "      <td>NaN</td>\n",
       "    </tr>\n",
       "    <tr>\n",
       "      <th>2</th>\n",
       "      <td>3</td>\n",
       "      <td>ALBERT PARDINI</td>\n",
       "      <td>CAPTAIN III (POLICE DEPARTMENT)</td>\n",
       "      <td>212739.13</td>\n",
       "      <td>106088.18</td>\n",
       "      <td>16452.6</td>\n",
       "      <td>NaN</td>\n",
       "      <td>335279.91</td>\n",
       "      <td>335279.91</td>\n",
       "      <td>2011</td>\n",
       "      <td>NaN</td>\n",
       "      <td>San Francisco</td>\n",
       "      <td>NaN</td>\n",
       "    </tr>\n",
       "    <tr>\n",
       "      <th>3</th>\n",
       "      <td>4</td>\n",
       "      <td>CHRISTOPHER CHONG</td>\n",
       "      <td>WIRE ROPE CABLE MAINTENANCE MECHANIC</td>\n",
       "      <td>77916.0</td>\n",
       "      <td>56120.71</td>\n",
       "      <td>198306.9</td>\n",
       "      <td>NaN</td>\n",
       "      <td>332343.61</td>\n",
       "      <td>332343.61</td>\n",
       "      <td>2011</td>\n",
       "      <td>NaN</td>\n",
       "      <td>San Francisco</td>\n",
       "      <td>NaN</td>\n",
       "    </tr>\n",
       "    <tr>\n",
       "      <th>4</th>\n",
       "      <td>5</td>\n",
       "      <td>PATRICK GARDNER</td>\n",
       "      <td>DEPUTY CHIEF OF DEPARTMENT,(FIRE DEPARTMENT)</td>\n",
       "      <td>134401.6</td>\n",
       "      <td>9737.0</td>\n",
       "      <td>182234.59</td>\n",
       "      <td>NaN</td>\n",
       "      <td>326373.19</td>\n",
       "      <td>326373.19</td>\n",
       "      <td>2011</td>\n",
       "      <td>NaN</td>\n",
       "      <td>San Francisco</td>\n",
       "      <td>NaN</td>\n",
       "    </tr>\n",
       "  </tbody>\n",
       "</table>\n",
       "</div>"
      ],
      "text/plain": [
       "   Id       EmployeeName                                        JobTitle  \\\n",
       "0   1     NATHANIEL FORD  GENERAL MANAGER-METROPOLITAN TRANSIT AUTHORITY   \n",
       "1   2       GARY JIMENEZ                 CAPTAIN III (POLICE DEPARTMENT)   \n",
       "2   3     ALBERT PARDINI                 CAPTAIN III (POLICE DEPARTMENT)   \n",
       "3   4  CHRISTOPHER CHONG            WIRE ROPE CABLE MAINTENANCE MECHANIC   \n",
       "4   5    PATRICK GARDNER    DEPUTY CHIEF OF DEPARTMENT,(FIRE DEPARTMENT)   \n",
       "\n",
       "     BasePay OvertimePay   OtherPay Benefits   TotalPay  TotalPayBenefits  \\\n",
       "0  167411.18         0.0  400184.25      NaN  567595.43         567595.43   \n",
       "1  155966.02   245131.88  137811.38      NaN  538909.28         538909.28   \n",
       "2  212739.13   106088.18    16452.6      NaN  335279.91         335279.91   \n",
       "3    77916.0    56120.71   198306.9      NaN  332343.61         332343.61   \n",
       "4   134401.6      9737.0  182234.59      NaN  326373.19         326373.19   \n",
       "\n",
       "   Year  Notes         Agency Status  \n",
       "0  2011    NaN  San Francisco    NaN  \n",
       "1  2011    NaN  San Francisco    NaN  \n",
       "2  2011    NaN  San Francisco    NaN  \n",
       "3  2011    NaN  San Francisco    NaN  \n",
       "4  2011    NaN  San Francisco    NaN  "
      ]
     },
     "execution_count": 168,
     "metadata": {},
     "output_type": "execute_result"
    }
   ],
   "source": [
    "df= pd.read_csv(\"C:\\\\Users\\\\20100\\\\Desktop\\\\data science\\\\data analysis\\\\projects\\\\SF Salaries\\\\Salaries.csv\",\n",
    "               low_memory= False)\n",
    "df.head()"
   ]
  },
  {
   "cell_type": "markdown",
   "id": "2ee7b730-850d-4436-95af-256c848697af",
   "metadata": {},
   "source": [
    "<B>EDA >>"
   ]
  },
  {
   "cell_type": "code",
   "execution_count": 169,
   "id": "5a5e2840-0243-49ad-8810-637b0cfd458a",
   "metadata": {},
   "outputs": [
    {
     "data": {
      "text/plain": [
       "2159"
      ]
     },
     "execution_count": 169,
     "metadata": {},
     "output_type": "execute_result"
    }
   ],
   "source": [
    "df['JobTitle'].nunique()"
   ]
  },
  {
   "cell_type": "code",
   "execution_count": 170,
   "id": "cd66e88e-e1f9-4ea5-957f-cc404d52ddb6",
   "metadata": {},
   "outputs": [
    {
     "name": "stdout",
     "output_type": "stream",
     "text": [
      "<class 'pandas.core.frame.DataFrame'>\n",
      "RangeIndex: 148654 entries, 0 to 148653\n",
      "Data columns (total 13 columns):\n",
      " #   Column            Non-Null Count   Dtype  \n",
      "---  ------            --------------   -----  \n",
      " 0   Id                148654 non-null  int64  \n",
      " 1   EmployeeName      148654 non-null  object \n",
      " 2   JobTitle          148654 non-null  object \n",
      " 3   BasePay           148049 non-null  object \n",
      " 4   OvertimePay       148654 non-null  object \n",
      " 5   OtherPay          148654 non-null  object \n",
      " 6   Benefits          112495 non-null  object \n",
      " 7   TotalPay          148654 non-null  float64\n",
      " 8   TotalPayBenefits  148654 non-null  float64\n",
      " 9   Year              148654 non-null  int64  \n",
      " 10  Notes             0 non-null       float64\n",
      " 11  Agency            148654 non-null  object \n",
      " 12  Status            38119 non-null   object \n",
      "dtypes: float64(3), int64(2), object(8)\n",
      "memory usage: 14.7+ MB\n"
     ]
    }
   ],
   "source": [
    "df.info()"
   ]
  },
  {
   "cell_type": "markdown",
   "id": "1d4936fc-2481-466d-8ce3-ce263cd3811d",
   "metadata": {},
   "source": [
    "<br>we need to change data type from str to float64 ,that's for applying statistics on these columns"
   ]
  },
  {
   "cell_type": "code",
   "execution_count": 171,
   "id": "b1793c2e-664d-4a10-af85-97b33ad8e2cd",
   "metadata": {},
   "outputs": [
    {
     "data": {
      "text/plain": [
       "Id                    int64\n",
       "EmployeeName         object\n",
       "JobTitle             object\n",
       "BasePay             float64\n",
       "OvertimePay         float64\n",
       "OtherPay            float64\n",
       "Benefits            float64\n",
       "TotalPay            float64\n",
       "TotalPayBenefits    float64\n",
       "Year                  int64\n",
       "Notes               float64\n",
       "Agency               object\n",
       "Status               object\n",
       "dtype: object"
      ]
     },
     "execution_count": 171,
     "metadata": {},
     "output_type": "execute_result"
    }
   ],
   "source": [
    "'''but if we change data type ,it will give error becouse there are rows\n",
    "   contain this value 'Not Provided' in these columns\n",
    "   ,so we will replace it with nan values'''\n",
    "df = df.replace('Not Provided', np.nan)\n",
    "\n",
    "df = df.astype({\n",
    "    'BasePay': float,\n",
    "    'OvertimePay': float,\n",
    "    'OtherPay': float,\n",
    "    'Benefits': float,\n",
    "    'TotalPay': float,\n",
    "    'TotalPayBenefits': float\n",
    "})\n",
    "\n",
    "df.dtypes"
   ]
  },
  {
   "cell_type": "code",
   "execution_count": 172,
   "id": "e2f06595-3b7b-4a6f-a4bd-ec688090c318",
   "metadata": {},
   "outputs": [
    {
     "data": {
      "text/html": [
       "<div>\n",
       "<style scoped>\n",
       "    .dataframe tbody tr th:only-of-type {\n",
       "        vertical-align: middle;\n",
       "    }\n",
       "\n",
       "    .dataframe tbody tr th {\n",
       "        vertical-align: top;\n",
       "    }\n",
       "\n",
       "    .dataframe thead th {\n",
       "        text-align: right;\n",
       "    }\n",
       "</style>\n",
       "<table border=\"1\" class=\"dataframe\">\n",
       "  <thead>\n",
       "    <tr style=\"text-align: right;\">\n",
       "      <th></th>\n",
       "      <th>Id</th>\n",
       "      <th>BasePay</th>\n",
       "      <th>OvertimePay</th>\n",
       "      <th>OtherPay</th>\n",
       "      <th>Benefits</th>\n",
       "      <th>TotalPay</th>\n",
       "      <th>TotalPayBenefits</th>\n",
       "      <th>Year</th>\n",
       "      <th>Notes</th>\n",
       "    </tr>\n",
       "  </thead>\n",
       "  <tbody>\n",
       "    <tr>\n",
       "      <th>count</th>\n",
       "      <td>148654.000000</td>\n",
       "      <td>148045.000000</td>\n",
       "      <td>148650.000000</td>\n",
       "      <td>148650.000000</td>\n",
       "      <td>112491.000000</td>\n",
       "      <td>148654.000000</td>\n",
       "      <td>148654.000000</td>\n",
       "      <td>148654.000000</td>\n",
       "      <td>0.0</td>\n",
       "    </tr>\n",
       "    <tr>\n",
       "      <th>mean</th>\n",
       "      <td>74327.500000</td>\n",
       "      <td>66325.448841</td>\n",
       "      <td>5066.059886</td>\n",
       "      <td>3648.767297</td>\n",
       "      <td>25007.893151</td>\n",
       "      <td>74768.321972</td>\n",
       "      <td>93692.554811</td>\n",
       "      <td>2012.522643</td>\n",
       "      <td>NaN</td>\n",
       "    </tr>\n",
       "    <tr>\n",
       "      <th>std</th>\n",
       "      <td>42912.857795</td>\n",
       "      <td>42764.635495</td>\n",
       "      <td>11454.380559</td>\n",
       "      <td>8056.601866</td>\n",
       "      <td>15402.215858</td>\n",
       "      <td>50517.005274</td>\n",
       "      <td>62793.533483</td>\n",
       "      <td>1.117538</td>\n",
       "      <td>NaN</td>\n",
       "    </tr>\n",
       "    <tr>\n",
       "      <th>min</th>\n",
       "      <td>1.000000</td>\n",
       "      <td>-166.010000</td>\n",
       "      <td>-0.010000</td>\n",
       "      <td>-7058.590000</td>\n",
       "      <td>-33.890000</td>\n",
       "      <td>-618.130000</td>\n",
       "      <td>-618.130000</td>\n",
       "      <td>2011.000000</td>\n",
       "      <td>NaN</td>\n",
       "    </tr>\n",
       "    <tr>\n",
       "      <th>25%</th>\n",
       "      <td>37164.250000</td>\n",
       "      <td>33588.200000</td>\n",
       "      <td>0.000000</td>\n",
       "      <td>0.000000</td>\n",
       "      <td>11535.395000</td>\n",
       "      <td>36168.995000</td>\n",
       "      <td>44065.650000</td>\n",
       "      <td>2012.000000</td>\n",
       "      <td>NaN</td>\n",
       "    </tr>\n",
       "    <tr>\n",
       "      <th>50%</th>\n",
       "      <td>74327.500000</td>\n",
       "      <td>65007.450000</td>\n",
       "      <td>0.000000</td>\n",
       "      <td>811.270000</td>\n",
       "      <td>28628.620000</td>\n",
       "      <td>71426.610000</td>\n",
       "      <td>92404.090000</td>\n",
       "      <td>2013.000000</td>\n",
       "      <td>NaN</td>\n",
       "    </tr>\n",
       "    <tr>\n",
       "      <th>75%</th>\n",
       "      <td>111490.750000</td>\n",
       "      <td>94691.050000</td>\n",
       "      <td>4658.175000</td>\n",
       "      <td>4236.065000</td>\n",
       "      <td>35566.855000</td>\n",
       "      <td>105839.135000</td>\n",
       "      <td>132876.450000</td>\n",
       "      <td>2014.000000</td>\n",
       "      <td>NaN</td>\n",
       "    </tr>\n",
       "    <tr>\n",
       "      <th>max</th>\n",
       "      <td>148654.000000</td>\n",
       "      <td>319275.010000</td>\n",
       "      <td>245131.880000</td>\n",
       "      <td>400184.250000</td>\n",
       "      <td>96570.660000</td>\n",
       "      <td>567595.430000</td>\n",
       "      <td>567595.430000</td>\n",
       "      <td>2014.000000</td>\n",
       "      <td>NaN</td>\n",
       "    </tr>\n",
       "  </tbody>\n",
       "</table>\n",
       "</div>"
      ],
      "text/plain": [
       "                  Id        BasePay    OvertimePay       OtherPay  \\\n",
       "count  148654.000000  148045.000000  148650.000000  148650.000000   \n",
       "mean    74327.500000   66325.448841    5066.059886    3648.767297   \n",
       "std     42912.857795   42764.635495   11454.380559    8056.601866   \n",
       "min         1.000000    -166.010000      -0.010000   -7058.590000   \n",
       "25%     37164.250000   33588.200000       0.000000       0.000000   \n",
       "50%     74327.500000   65007.450000       0.000000     811.270000   \n",
       "75%    111490.750000   94691.050000    4658.175000    4236.065000   \n",
       "max    148654.000000  319275.010000  245131.880000  400184.250000   \n",
       "\n",
       "            Benefits       TotalPay  TotalPayBenefits           Year  Notes  \n",
       "count  112491.000000  148654.000000     148654.000000  148654.000000    0.0  \n",
       "mean    25007.893151   74768.321972      93692.554811    2012.522643    NaN  \n",
       "std     15402.215858   50517.005274      62793.533483       1.117538    NaN  \n",
       "min       -33.890000    -618.130000       -618.130000    2011.000000    NaN  \n",
       "25%     11535.395000   36168.995000      44065.650000    2012.000000    NaN  \n",
       "50%     28628.620000   71426.610000      92404.090000    2013.000000    NaN  \n",
       "75%     35566.855000  105839.135000     132876.450000    2014.000000    NaN  \n",
       "max     96570.660000  567595.430000     567595.430000    2014.000000    NaN  "
      ]
     },
     "execution_count": 172,
     "metadata": {},
     "output_type": "execute_result"
    }
   ],
   "source": [
    "df.describe()"
   ]
  },
  {
   "cell_type": "markdown",
   "id": "7d3a80af-778a-44c8-baf2-88dc3d966914",
   "metadata": {},
   "source": [
    "<br><i>what is the average BasePay ??"
   ]
  },
  {
   "cell_type": "code",
   "execution_count": 173,
   "id": "e1981042-cf95-490d-be8f-8e13a1f6e266",
   "metadata": {},
   "outputs": [
    {
     "data": {
      "text/plain": [
       "66325.44884050643"
      ]
     },
     "execution_count": 173,
     "metadata": {},
     "output_type": "execute_result"
    }
   ],
   "source": [
    "df['BasePay'].mean()"
   ]
  },
  {
   "cell_type": "markdown",
   "id": "95f930b9-b288-46b8-af26-4eb421155bcd",
   "metadata": {},
   "source": [
    "<br><i>what is the highest amount of the OvertimePay ??"
   ]
  },
  {
   "cell_type": "code",
   "execution_count": 174,
   "id": "67ff77ee-aef3-453a-8dbf-d9a41f22866f",
   "metadata": {},
   "outputs": [
    {
     "data": {
      "text/plain": [
       "245131.88"
      ]
     },
     "execution_count": 174,
     "metadata": {},
     "output_type": "execute_result"
    }
   ],
   "source": [
    "df['OvertimePay'].max()"
   ]
  },
  {
   "cell_type": "markdown",
   "id": "260cb897-e10f-42a5-a2d1-483836d73768",
   "metadata": {},
   "source": [
    "<br><i>what is the TotalPay of ALBERT PARDINI (inclduding benefits)??"
   ]
  },
  {
   "cell_type": "code",
   "execution_count": 175,
   "id": "4d190159-54ab-49ec-a6bb-e71d783275b4",
   "metadata": {},
   "outputs": [
    {
     "data": {
      "text/plain": [
       "2    335279.91\n",
       "Name: TotalPayBenefits, dtype: float64"
      ]
     },
     "execution_count": 175,
     "metadata": {},
     "output_type": "execute_result"
    }
   ],
   "source": [
    "df[df['EmployeeName'] == 'ALBERT PARDINI']['TotalPayBenefits']"
   ]
  },
  {
   "cell_type": "markdown",
   "id": "e2bfb497-dcd1-45dd-a6d7-64ec6e6002a6",
   "metadata": {},
   "source": [
    "<br><i>what is the name of the highest and lowest paid person??"
   ]
  },
  {
   "cell_type": "code",
   "execution_count": 176,
   "id": "3c17527b-fd16-4f2e-a84d-477481b75c02",
   "metadata": {},
   "outputs": [
    {
     "data": {
      "text/plain": [
       "0    NATHANIEL FORD\n",
       "Name: EmployeeName, dtype: object"
      ]
     },
     "execution_count": 176,
     "metadata": {},
     "output_type": "execute_result"
    }
   ],
   "source": [
    "df[df['TotalPayBenefits']==df['TotalPayBenefits'].max()]['EmployeeName']"
   ]
  },
  {
   "cell_type": "code",
   "execution_count": 177,
   "id": "9661698c-745a-465b-89a9-1d9d22476192",
   "metadata": {},
   "outputs": [
    {
     "data": {
      "text/plain": [
       "148653    Joe Lopez\n",
       "Name: EmployeeName, dtype: object"
      ]
     },
     "execution_count": 177,
     "metadata": {},
     "output_type": "execute_result"
    }
   ],
   "source": [
    "df[df['TotalPayBenefits']==df['TotalPayBenefits'].min()]['EmployeeName']"
   ]
  },
  {
   "cell_type": "code",
   "execution_count": 178,
   "id": "1223795b-876e-4cad-ad8b-b8a4011906d6",
   "metadata": {},
   "outputs": [
    {
     "data": {
      "text/html": [
       "<div>\n",
       "<style scoped>\n",
       "    .dataframe tbody tr th:only-of-type {\n",
       "        vertical-align: middle;\n",
       "    }\n",
       "\n",
       "    .dataframe tbody tr th {\n",
       "        vertical-align: top;\n",
       "    }\n",
       "\n",
       "    .dataframe thead th {\n",
       "        text-align: right;\n",
       "    }\n",
       "</style>\n",
       "<table border=\"1\" class=\"dataframe\">\n",
       "  <thead>\n",
       "    <tr style=\"text-align: right;\">\n",
       "      <th></th>\n",
       "      <th>Id</th>\n",
       "      <th>EmployeeName</th>\n",
       "      <th>JobTitle</th>\n",
       "      <th>BasePay</th>\n",
       "      <th>OvertimePay</th>\n",
       "      <th>OtherPay</th>\n",
       "      <th>Benefits</th>\n",
       "      <th>TotalPay</th>\n",
       "      <th>TotalPayBenefits</th>\n",
       "      <th>Year</th>\n",
       "      <th>Notes</th>\n",
       "      <th>Agency</th>\n",
       "      <th>Status</th>\n",
       "    </tr>\n",
       "  </thead>\n",
       "  <tbody>\n",
       "    <tr>\n",
       "      <th>148653</th>\n",
       "      <td>148654</td>\n",
       "      <td>Joe Lopez</td>\n",
       "      <td>Counselor, Log Cabin Ranch</td>\n",
       "      <td>0.0</td>\n",
       "      <td>0.0</td>\n",
       "      <td>-618.13</td>\n",
       "      <td>0.0</td>\n",
       "      <td>-618.13</td>\n",
       "      <td>-618.13</td>\n",
       "      <td>2014</td>\n",
       "      <td>NaN</td>\n",
       "      <td>San Francisco</td>\n",
       "      <td>PT</td>\n",
       "    </tr>\n",
       "  </tbody>\n",
       "</table>\n",
       "</div>"
      ],
      "text/plain": [
       "            Id EmployeeName                    JobTitle  BasePay  OvertimePay  \\\n",
       "148653  148654    Joe Lopez  Counselor, Log Cabin Ranch      0.0          0.0   \n",
       "\n",
       "        OtherPay  Benefits  TotalPay  TotalPayBenefits  Year  Notes  \\\n",
       "148653   -618.13       0.0   -618.13           -618.13  2014    NaN   \n",
       "\n",
       "               Agency Status  \n",
       "148653  San Francisco     PT  "
      ]
     },
     "execution_count": 178,
     "metadata": {},
     "output_type": "execute_result"
    }
   ],
   "source": [
    "df[df['TotalPayBenefits']==df['TotalPayBenefits'].min()]"
   ]
  },
  {
   "cell_type": "code",
   "execution_count": 179,
   "id": "ab9cf315-231a-49e0-b001-8dce747a534c",
   "metadata": {},
   "outputs": [
    {
     "name": "stdout",
     "output_type": "stream",
     "text": [
      "34\n"
     ]
    }
   ],
   "source": [
    "#we notic that there is employees who do not take a salary and owe to the company\n",
    "#we will count their number\n",
    "Owe_emp = df.loc[df['TotalPayBenefits'] <= 0, 'TotalPayBenefits'].count()\n",
    "print(Owe_emp)"
   ]
  },
  {
   "cell_type": "markdown",
   "id": "b60506ff-dd2b-49d1-9556-97a218334cff",
   "metadata": {},
   "source": [
    "<br><i>what was the avarage of the BasePay of all the employees per Year?? "
   ]
  },
  {
   "cell_type": "markdown",
   "id": "2b6d54db-f6c7-4b33-a4a2-9dee54acafae",
   "metadata": {},
   "source": [
    "<br><i>what was the avarage of the BasePay of all the employees per Year?? "
   ]
  },
  {
   "cell_type": "code",
   "execution_count": 180,
   "id": "f350de00-5ab5-4a6b-a518-b1a32ca30e6c",
   "metadata": {},
   "outputs": [
    {
     "data": {
      "text/plain": [
       "Year\n",
       "2011    63595.956517\n",
       "2012    65436.406857\n",
       "2014    66564.421924\n",
       "2013    69630.030216\n",
       "Name: BasePay, dtype: float64"
      ]
     },
     "execution_count": 180,
     "metadata": {},
     "output_type": "execute_result"
    }
   ],
   "source": [
    "df.groupby('Year')['BasePay'].mean().sort_values()"
   ]
  },
  {
   "cell_type": "markdown",
   "id": "63a12611-0bc0-4aad-b57e-46d97327bfa6",
   "metadata": {},
   "source": [
    "<br><i>what are the most popular jobs?? "
   ]
  },
  {
   "cell_type": "code",
   "execution_count": 181,
   "id": "1363042f-da26-47b9-a751-0a4ed69afe55",
   "metadata": {},
   "outputs": [
    {
     "data": {
      "text/plain": [
       "Transit Operator                7036\n",
       "Special Nurse                   4389\n",
       "Registered Nurse                3736\n",
       "Public Svc Aide-Public Works    2518\n",
       "Police Officer 3                2421\n",
       "Name: JobTitle, dtype: int64"
      ]
     },
     "execution_count": 181,
     "metadata": {},
     "output_type": "execute_result"
    }
   ],
   "source": [
    "df['JobTitle'].value_counts().head(5)"
   ]
  },
  {
   "cell_type": "markdown",
   "id": "79b4846f-f671-449b-af3c-350e80a27f53",
   "metadata": {},
   "source": [
    "<br><i>How many job titles were represented by only 1 person in 2013?? "
   ]
  },
  {
   "cell_type": "code",
   "execution_count": 182,
   "id": "283ad37c-d437-48ad-b0bb-1de812aa7d75",
   "metadata": {},
   "outputs": [
    {
     "data": {
      "text/plain": [
       "202"
      ]
     },
     "execution_count": 182,
     "metadata": {},
     "output_type": "execute_result"
    }
   ],
   "source": [
    "(df[df['Year'] == 2013]['JobTitle'].value_counts()==1).sum()"
   ]
  },
  {
   "cell_type": "markdown",
   "id": "f2156786-f39f-4628-9bb4-e2e29f5356c0",
   "metadata": {},
   "source": [
    "<br><i>How many employees have the word Chief in their job title?? "
   ]
  },
  {
   "cell_type": "code",
   "execution_count": 183,
   "id": "deae6d9e-c851-43a1-aa70-487de6114502",
   "metadata": {},
   "outputs": [
    {
     "data": {
      "text/plain": [
       "627"
      ]
     },
     "execution_count": 183,
     "metadata": {},
     "output_type": "execute_result"
    }
   ],
   "source": [
    "df['JobTitle'].str.lower().str.contains('chief').sum()"
   ]
  },
  {
   "cell_type": "markdown",
   "id": "4d4ce557-7cad-4e12-be52-b31d680d02d2",
   "metadata": {},
   "source": [
    "<br><i>Is there is a correlation between (lenght of the job title string) and (salary)??"
   ]
  },
  {
   "cell_type": "code",
   "execution_count": 184,
   "id": "80858a5c-55b4-446d-9ec1-2bed7e7e5c77",
   "metadata": {},
   "outputs": [
    {
     "data": {
      "text/plain": [
       "0         46\n",
       "1         31\n",
       "2         31\n",
       "3         36\n",
       "4         44\n",
       "          ..\n",
       "148649     9\n",
       "148650    12\n",
       "148651    12\n",
       "148652    12\n",
       "148653    26\n",
       "Name: num_titles, Length: 148654, dtype: int64"
      ]
     },
     "execution_count": 184,
     "metadata": {},
     "output_type": "execute_result"
    }
   ],
   "source": [
    "df['num_titles']= df['JobTitle'].apply(len)  \n",
    "#apply fun is very useful when you want to perform functions and calcs on rows.\n",
    "df['num_titles']"
   ]
  },
  {
   "cell_type": "code",
   "execution_count": 185,
   "id": "3e70257c-3e7b-418b-be5b-095060a2adf4",
   "metadata": {},
   "outputs": [
    {
     "data": {
      "text/html": [
       "<div>\n",
       "<style scoped>\n",
       "    .dataframe tbody tr th:only-of-type {\n",
       "        vertical-align: middle;\n",
       "    }\n",
       "\n",
       "    .dataframe tbody tr th {\n",
       "        vertical-align: top;\n",
       "    }\n",
       "\n",
       "    .dataframe thead th {\n",
       "        text-align: right;\n",
       "    }\n",
       "</style>\n",
       "<table border=\"1\" class=\"dataframe\">\n",
       "  <thead>\n",
       "    <tr style=\"text-align: right;\">\n",
       "      <th></th>\n",
       "      <th>num_titles</th>\n",
       "      <th>TotalPayBenefits</th>\n",
       "    </tr>\n",
       "  </thead>\n",
       "  <tbody>\n",
       "    <tr>\n",
       "      <th>num_titles</th>\n",
       "      <td>1.000000</td>\n",
       "      <td>-0.036878</td>\n",
       "    </tr>\n",
       "    <tr>\n",
       "      <th>TotalPayBenefits</th>\n",
       "      <td>-0.036878</td>\n",
       "      <td>1.000000</td>\n",
       "    </tr>\n",
       "  </tbody>\n",
       "</table>\n",
       "</div>"
      ],
      "text/plain": [
       "                  num_titles  TotalPayBenefits\n",
       "num_titles          1.000000         -0.036878\n",
       "TotalPayBenefits   -0.036878          1.000000"
      ]
     },
     "execution_count": 185,
     "metadata": {},
     "output_type": "execute_result"
    }
   ],
   "source": [
    "df[['num_titles','TotalPayBenefits']].corr()"
   ]
  },
  {
   "cell_type": "markdown",
   "id": "640f0a19-f2cb-40c5-84ed-441afeaf0126",
   "metadata": {},
   "source": [
    "> there is no correlatin"
   ]
  },
  {
   "cell_type": "markdown",
   "id": "1fd35440-fd72-4f43-a0bf-3ea8b5c9430c",
   "metadata": {},
   "source": [
    "<br><i>what is the amount of increase in number of jobs in each year??"
   ]
  },
  {
   "cell_type": "code",
   "execution_count": 186,
   "id": "063cbe19-0560-4dd9-8ea0-8e8bf3fd49fd",
   "metadata": {},
   "outputs": [],
   "source": [
    "job_counts = df.groupby('Year')['Id'].count()"
   ]
  },
  {
   "cell_type": "code",
   "execution_count": 187,
   "id": "56c02838-1d55-4de5-af5c-1463a00df90d",
   "metadata": {},
   "outputs": [
    {
     "name": "stdout",
     "output_type": "stream",
     "text": [
      "Year\n",
      "2011         NaN\n",
      "2012    0.016787\n",
      "2013    0.022847\n",
      "2014    0.013748\n",
      "Name: Id, dtype: float64\n"
     ]
    }
   ],
   "source": [
    "job_increase = job_counts.pct_change()\n",
    "print(job_increase)"
   ]
  },
  {
   "cell_type": "markdown",
   "id": "2c771d4d-76de-4a50-8be6-07f68f5ef884",
   "metadata": {},
   "source": [
    "fig, ax = plt.subplots()\n",
    "\n",
    "ax.bar(job_counts.index, job_counts.values)\n",
    "ax.set_ylabel('Number of Jobs')\n",
    "\n",
    "ax2 = ax.twinx()\n",
    "ax2.set_ylabel('Percentage Increase')\n",
    "\n",
    "ax.set_title('Number of Jobs and Percentage Increase by Year')\n",
    "\n",
    "plt.show()"
   ]
  },
  {
   "cell_type": "markdown",
   "id": "94ba9977-592d-4501-92f6-7536ff922bcb",
   "metadata": {},
   "source": [
    "\n",
    "#### visualizing the 5 number summary of TotalPayBenefits"
   ]
  },
  {
   "cell_type": "code",
   "execution_count": 188,
   "id": "52794bf9-7e24-45ef-b43a-dd1db95db763",
   "metadata": {},
   "outputs": [
    {
     "data": {
      "text/plain": [
       "Text(0.5, 1.0, '5 number summary of TotalPayBenefits')"
      ]
     },
     "execution_count": 188,
     "metadata": {},
     "output_type": "execute_result"
    },
    {
     "data": {
      "image/png": "[encoded data removed]",
      "text/plain": [
       "<Figure size 800x300 with 1 Axes>"
      ]
     },
     "metadata": {},
     "output_type": "display_data"
    }
   ],
   "source": [
    "plt.figure(figsize=(8,3))\n",
    "sns.boxplot(x=df['TotalPayBenefits']).set_title(\"5 number summary of TotalPayBenefits\")"
   ]
  },
  {
   "cell_type": "markdown",
   "id": "a67e968d-e365-46ad-8d74-6677b7e91365",
   "metadata": {},
   "source": [
    "### Insight:\n",
    "The most of employees receive a wage with approximately 100000 per year,\n",
    "The number of employees that receive a wage with above 400000 is very small."
   ]
  },
  {
   "cell_type": "markdown",
   "id": "2b2757ea-38d3-407f-ad61-cdaf18f8fd1b",
   "metadata": {},
   "source": [
    "<br><i>so, what is the title of these people who take more than 400000??"
   ]
  },
  {
   "cell_type": "code",
   "execution_count": 189,
   "id": "d2a61f2b-4651-4843-ba5c-0355e676230e",
   "metadata": {},
   "outputs": [
    {
     "data": {
      "text/plain": [
       "array(['GENERAL MANAGER-METROPOLITAN TRANSIT AUTHORITY',\n",
       "       'CAPTAIN III (POLICE DEPARTMENT)', 'Lieutenant, Fire Suppression',\n",
       "       'Chief of Police', 'Chief, Fire Department',\n",
       "       'Battalion Chief, Fire Suppress', 'Asst Med Examiner',\n",
       "       'Deputy Chief 3', 'Chief Investment Officer', 'Dept Head V'],\n",
       "      dtype=object)"
      ]
     },
     "execution_count": 189,
     "metadata": {},
     "output_type": "execute_result"
    }
   ],
   "source": [
    "high_earners = df[df['TotalPayBenefits'] > 400000]\n",
    "high_earners['JobTitle'].unique()"
   ]
  },
  {
   "cell_type": "code",
   "execution_count": null,
   "id": "54ff547c-25de-4d6c-b408-820983fcece3",
   "metadata": {},
   "outputs": [],
   "source": []
  },
  {
   "cell_type": "code",
   "execution_count": null,
   "id": "f1efa931-cbb7-46b0-954d-95d27f17c81d",
   "metadata": {},
   "outputs": [],
   "source": []
  }
 ],
 "metadata": {
  "kernelspec": {
   "display_name": "Python 3 (ipykernel)",
   "language": "python",
   "name": "python3"
  },
  "language_info": {
   "codemirror_mode": {
    "name": "ipython",
    "version": 3
   },
   "file_extension": ".py",
   "mimetype": "text/x-python",
   "name": "python",
   "nbconvert_exporter": "python",
   "pygments_lexer": "ipython3",
   "version": "3.9.13"
  }
 },
 "nbformat": 4,
 "nbformat_minor": 5
}
