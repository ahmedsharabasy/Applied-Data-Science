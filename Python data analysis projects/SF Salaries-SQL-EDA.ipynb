{
 "cells": [
  {
   "cell_type": "markdown",
   "id": "f8208418-8675-4903-9550-5bec3cf99653",
   "metadata": {},
   "source": [
    "<B>Link to dataset >></B> https://www.kaggle.com/datasets/kaggle/sf-salaries?datasetId=14&sortBy=voteCount&select=Salaries.csv"
   ]
  },
  {
   "cell_type": "markdown",
   "id": "c4ddb192-e88b-42f4-8d69-ad9cded65bb9",
   "metadata": {},
   "source": [
    "<B>Import libiraries >>"
   ]
  },
  {
   "cell_type": "code",
   "execution_count": 32,
   "id": "e6a16468-28ee-4aa8-b569-be2423a4b65d",
   "metadata": {},
   "outputs": [],
   "source": [
    "import pandas as pd\n",
    "import numpy as np\n",
    "import sqlite3\n",
    "import matplotlib.pyplot as plt\n",
    "import seaborn as sns"
   ]
  },
  {
   "cell_type": "markdown",
   "id": "74eb7049-4098-4de6-926d-1847ce9814ea",
   "metadata": {},
   "source": [
    "<B>Import Data >>"
   ]
  },
  {
   "cell_type": "code",
   "execution_count": 137,
   "id": "0f27a9d0-9ffa-40da-b544-22eb19c49b74",
   "metadata": {},
   "outputs": [
    {
     "data": {
      "text/html": [
       "<div>\n",
       "<style scoped>\n",
       "    .dataframe tbody tr th:only-of-type {\n",
       "        vertical-align: middle;\n",
       "    }\n",
       "\n",
       "    .dataframe tbody tr th {\n",
       "        vertical-align: top;\n",
       "    }\n",
       "\n",
       "    .dataframe thead th {\n",
       "        text-align: right;\n",
       "    }\n",
       "</style>\n",
       "<table border=\"1\" class=\"dataframe\">\n",
       "  <thead>\n",
       "    <tr style=\"text-align: right;\">\n",
       "      <th></th>\n",
       "      <th>type</th>\n",
       "      <th>name</th>\n",
       "      <th>tbl_name</th>\n",
       "      <th>rootpage</th>\n",
       "      <th>sql</th>\n",
       "    </tr>\n",
       "  </thead>\n",
       "  <tbody>\n",
       "    <tr>\n",
       "      <th>0</th>\n",
       "      <td>table</td>\n",
       "      <td>Salaries</td>\n",
       "      <td>Salaries</td>\n",
       "      <td>2</td>\n",
       "      <td>CREATE TABLE Salaries (\\n    Id INTEGER PRIMAR...</td>\n",
       "    </tr>\n",
       "  </tbody>\n",
       "</table>\n",
       "</div>"
      ],
      "text/plain": [
       "    type      name  tbl_name  rootpage  \\\n",
       "0  table  Salaries  Salaries         2   \n",
       "\n",
       "                                                 sql  \n",
       "0  CREATE TABLE Salaries (\\n    Id INTEGER PRIMAR...  "
      ]
     },
     "execution_count": 137,
     "metadata": {},
     "output_type": "execute_result"
    }
   ],
   "source": [
    "conn = sqlite3.connect('database.sqlite')\n",
    "\n",
    "data = pd.read_sql('select * from sqlite_master where type=\"table\"',conn)\n",
    "data"
   ]
  },
  {
   "cell_type": "markdown",
   "id": "d4148599-29cf-468f-9b4e-dc06030b7baa",
   "metadata": {},
   "source": [
    "<B>Fetch Salaries table>>"
   ]
  },
  {
   "cell_type": "code",
   "execution_count": 47,
   "id": "03f3d99c-4d64-4909-957e-c92beb56a871",
   "metadata": {},
   "outputs": [
    {
     "data": {
      "text/html": [
       "<div>\n",
       "<style scoped>\n",
       "    .dataframe tbody tr th:only-of-type {\n",
       "        vertical-align: middle;\n",
       "    }\n",
       "\n",
       "    .dataframe tbody tr th {\n",
       "        vertical-align: top;\n",
       "    }\n",
       "\n",
       "    .dataframe thead th {\n",
       "        text-align: right;\n",
       "    }\n",
       "</style>\n",
       "<table border=\"1\" class=\"dataframe\">\n",
       "  <thead>\n",
       "    <tr style=\"text-align: right;\">\n",
       "      <th></th>\n",
       "      <th>Id</th>\n",
       "      <th>EmployeeName</th>\n",
       "      <th>JobTitle</th>\n",
       "      <th>BasePay</th>\n",
       "      <th>OvertimePay</th>\n",
       "      <th>OtherPay</th>\n",
       "      <th>Benefits</th>\n",
       "      <th>TotalPay</th>\n",
       "      <th>TotalPayBenefits</th>\n",
       "      <th>Year</th>\n",
       "      <th>Notes</th>\n",
       "      <th>Agency</th>\n",
       "      <th>Status</th>\n",
       "    </tr>\n",
       "  </thead>\n",
       "  <tbody>\n",
       "    <tr>\n",
       "      <th>0</th>\n",
       "      <td>1</td>\n",
       "      <td>NATHANIEL FORD</td>\n",
       "      <td>GENERAL MANAGER-METROPOLITAN TRANSIT AUTHORITY</td>\n",
       "      <td>167411.18</td>\n",
       "      <td>0</td>\n",
       "      <td>400184.25</td>\n",
       "      <td></td>\n",
       "      <td>567595.43</td>\n",
       "      <td>567595.43</td>\n",
       "      <td>2011</td>\n",
       "      <td></td>\n",
       "      <td>San Francisco</td>\n",
       "      <td></td>\n",
       "    </tr>\n",
       "    <tr>\n",
       "      <th>1</th>\n",
       "      <td>2</td>\n",
       "      <td>GARY JIMENEZ</td>\n",
       "      <td>CAPTAIN III (POLICE DEPARTMENT)</td>\n",
       "      <td>155966.02</td>\n",
       "      <td>245131.88</td>\n",
       "      <td>137811.38</td>\n",
       "      <td></td>\n",
       "      <td>538909.28</td>\n",
       "      <td>538909.28</td>\n",
       "      <td>2011</td>\n",
       "      <td></td>\n",
       "      <td>San Francisco</td>\n",
       "      <td></td>\n",
       "    </tr>\n",
       "    <tr>\n",
       "      <th>2</th>\n",
       "      <td>3</td>\n",
       "      <td>ALBERT PARDINI</td>\n",
       "      <td>CAPTAIN III (POLICE DEPARTMENT)</td>\n",
       "      <td>212739.13</td>\n",
       "      <td>106088.18</td>\n",
       "      <td>16452.6</td>\n",
       "      <td></td>\n",
       "      <td>335279.91</td>\n",
       "      <td>335279.91</td>\n",
       "      <td>2011</td>\n",
       "      <td></td>\n",
       "      <td>San Francisco</td>\n",
       "      <td></td>\n",
       "    </tr>\n",
       "    <tr>\n",
       "      <th>3</th>\n",
       "      <td>4</td>\n",
       "      <td>CHRISTOPHER CHONG</td>\n",
       "      <td>WIRE ROPE CABLE MAINTENANCE MECHANIC</td>\n",
       "      <td>77916</td>\n",
       "      <td>56120.71</td>\n",
       "      <td>198306.9</td>\n",
       "      <td></td>\n",
       "      <td>332343.61</td>\n",
       "      <td>332343.61</td>\n",
       "      <td>2011</td>\n",
       "      <td></td>\n",
       "      <td>San Francisco</td>\n",
       "      <td></td>\n",
       "    </tr>\n",
       "    <tr>\n",
       "      <th>4</th>\n",
       "      <td>5</td>\n",
       "      <td>PATRICK GARDNER</td>\n",
       "      <td>DEPUTY CHIEF OF DEPARTMENT,(FIRE DEPARTMENT)</td>\n",
       "      <td>134401.6</td>\n",
       "      <td>9737</td>\n",
       "      <td>182234.59</td>\n",
       "      <td></td>\n",
       "      <td>326373.19</td>\n",
       "      <td>326373.19</td>\n",
       "      <td>2011</td>\n",
       "      <td></td>\n",
       "      <td>San Francisco</td>\n",
       "      <td></td>\n",
       "    </tr>\n",
       "  </tbody>\n",
       "</table>\n",
       "</div>"
      ],
      "text/plain": [
       "   Id       EmployeeName                                        JobTitle  \\\n",
       "0   1     NATHANIEL FORD  GENERAL MANAGER-METROPOLITAN TRANSIT AUTHORITY   \n",
       "1   2       GARY JIMENEZ                 CAPTAIN III (POLICE DEPARTMENT)   \n",
       "2   3     ALBERT PARDINI                 CAPTAIN III (POLICE DEPARTMENT)   \n",
       "3   4  CHRISTOPHER CHONG            WIRE ROPE CABLE MAINTENANCE MECHANIC   \n",
       "4   5    PATRICK GARDNER    DEPUTY CHIEF OF DEPARTMENT,(FIRE DEPARTMENT)   \n",
       "\n",
       "     BasePay OvertimePay   OtherPay Benefits   TotalPay  TotalPayBenefits  \\\n",
       "0  167411.18           0  400184.25           567595.43         567595.43   \n",
       "1  155966.02   245131.88  137811.38           538909.28         538909.28   \n",
       "2  212739.13   106088.18    16452.6           335279.91         335279.91   \n",
       "3      77916    56120.71   198306.9           332343.61         332343.61   \n",
       "4   134401.6        9737  182234.59           326373.19         326373.19   \n",
       "\n",
       "   Year Notes         Agency Status  \n",
       "0  2011        San Francisco         \n",
       "1  2011        San Francisco         \n",
       "2  2011        San Francisco         \n",
       "3  2011        San Francisco         \n",
       "4  2011        San Francisco         "
      ]
     },
     "execution_count": 47,
     "metadata": {},
     "output_type": "execute_result"
    }
   ],
   "source": [
    "Salaries = pd.read_sql('select * from Salaries',conn)\n",
    "Salaries.head()"
   ]
  },
  {
   "cell_type": "markdown",
   "id": "c45610e4-89b9-45ca-9afc-469fdf8dcafd",
   "metadata": {},
   "source": [
    "<B>EDA >>"
   ]
  },
  {
   "cell_type": "code",
   "execution_count": 48,
   "id": "7ac4ba87-66a4-4119-8f5d-3f1f61c38daa",
   "metadata": {},
   "outputs": [
    {
     "data": {
      "text/plain": [
       "2159"
      ]
     },
     "execution_count": 48,
     "metadata": {},
     "output_type": "execute_result"
    }
   ],
   "source": [
    "Salaries['JobTitle'].nunique()"
   ]
  },
  {
   "cell_type": "code",
   "execution_count": 49,
   "id": "d1121f4f-78c8-4912-9e01-fd28b6619be4",
   "metadata": {},
   "outputs": [
    {
     "name": "stdout",
     "output_type": "stream",
     "text": [
      "<class 'pandas.core.frame.DataFrame'>\n",
      "RangeIndex: 148654 entries, 0 to 148653\n",
      "Data columns (total 13 columns):\n",
      " #   Column            Non-Null Count   Dtype  \n",
      "---  ------            --------------   -----  \n",
      " 0   Id                148654 non-null  int64  \n",
      " 1   EmployeeName      148654 non-null  object \n",
      " 2   JobTitle          148654 non-null  object \n",
      " 3   BasePay           148654 non-null  object \n",
      " 4   OvertimePay       148654 non-null  object \n",
      " 5   OtherPay          148654 non-null  object \n",
      " 6   Benefits          148654 non-null  object \n",
      " 7   TotalPay          148654 non-null  float64\n",
      " 8   TotalPayBenefits  148654 non-null  float64\n",
      " 9   Year              148654 non-null  int64  \n",
      " 10  Notes             148654 non-null  object \n",
      " 11  Agency            148654 non-null  object \n",
      " 12  Status            148654 non-null  object \n",
      "dtypes: float64(2), int64(2), object(9)\n",
      "memory usage: 14.7+ MB\n"
     ]
    }
   ],
   "source": [
    "Salaries.info()"
   ]
  },
  {
   "cell_type": "markdown",
   "id": "6b2f4e1d-2fe5-4c63-ab2a-63769c534dcf",
   "metadata": {},
   "source": [
    "<br>there are rows\n",
    "   contain this value 'Not Provided' in these columns\n",
    "   ,so we will replace it with nan values"
   ]
  },
  {
   "cell_type": "code",
   "execution_count": 50,
   "id": "93c77cd5-0048-4822-8d27-cbbeb065741d",
   "metadata": {},
   "outputs": [],
   "source": [
    "Salaries = Salaries.replace('Not Provided', np.nan)"
   ]
  },
  {
   "cell_type": "code",
   "execution_count": 52,
   "id": "b51368f4-7df1-4851-8153-25c101df74ed",
   "metadata": {},
   "outputs": [
    {
     "data": {
      "text/html": [
       "<div>\n",
       "<style scoped>\n",
       "    .dataframe tbody tr th:only-of-type {\n",
       "        vertical-align: middle;\n",
       "    }\n",
       "\n",
       "    .dataframe tbody tr th {\n",
       "        vertical-align: top;\n",
       "    }\n",
       "\n",
       "    .dataframe thead th {\n",
       "        text-align: right;\n",
       "    }\n",
       "</style>\n",
       "<table border=\"1\" class=\"dataframe\">\n",
       "  <thead>\n",
       "    <tr style=\"text-align: right;\">\n",
       "      <th></th>\n",
       "      <th>Id</th>\n",
       "      <th>OvertimePay</th>\n",
       "      <th>OtherPay</th>\n",
       "      <th>TotalPay</th>\n",
       "      <th>TotalPayBenefits</th>\n",
       "      <th>Year</th>\n",
       "    </tr>\n",
       "  </thead>\n",
       "  <tbody>\n",
       "    <tr>\n",
       "      <th>count</th>\n",
       "      <td>148654.000000</td>\n",
       "      <td>148650.000000</td>\n",
       "      <td>148650.000000</td>\n",
       "      <td>148654.000000</td>\n",
       "      <td>148654.000000</td>\n",
       "      <td>148654.000000</td>\n",
       "    </tr>\n",
       "    <tr>\n",
       "      <th>mean</th>\n",
       "      <td>74327.500000</td>\n",
       "      <td>5066.059886</td>\n",
       "      <td>3648.767297</td>\n",
       "      <td>74768.321972</td>\n",
       "      <td>93692.554811</td>\n",
       "      <td>2012.522643</td>\n",
       "    </tr>\n",
       "    <tr>\n",
       "      <th>std</th>\n",
       "      <td>42912.857795</td>\n",
       "      <td>11454.380559</td>\n",
       "      <td>8056.601866</td>\n",
       "      <td>50517.005274</td>\n",
       "      <td>62793.533483</td>\n",
       "      <td>1.117538</td>\n",
       "    </tr>\n",
       "    <tr>\n",
       "      <th>min</th>\n",
       "      <td>1.000000</td>\n",
       "      <td>-0.010000</td>\n",
       "      <td>-7058.590000</td>\n",
       "      <td>-618.130000</td>\n",
       "      <td>-618.130000</td>\n",
       "      <td>2011.000000</td>\n",
       "    </tr>\n",
       "    <tr>\n",
       "      <th>25%</th>\n",
       "      <td>37164.250000</td>\n",
       "      <td>0.000000</td>\n",
       "      <td>0.000000</td>\n",
       "      <td>36168.995000</td>\n",
       "      <td>44065.650000</td>\n",
       "      <td>2012.000000</td>\n",
       "    </tr>\n",
       "    <tr>\n",
       "      <th>50%</th>\n",
       "      <td>74327.500000</td>\n",
       "      <td>0.000000</td>\n",
       "      <td>811.270000</td>\n",
       "      <td>71426.610000</td>\n",
       "      <td>92404.090000</td>\n",
       "      <td>2013.000000</td>\n",
       "    </tr>\n",
       "    <tr>\n",
       "      <th>75%</th>\n",
       "      <td>111490.750000</td>\n",
       "      <td>4658.175000</td>\n",
       "      <td>4236.065000</td>\n",
       "      <td>105839.135000</td>\n",
       "      <td>132876.450000</td>\n",
       "      <td>2014.000000</td>\n",
       "    </tr>\n",
       "    <tr>\n",
       "      <th>max</th>\n",
       "      <td>148654.000000</td>\n",
       "      <td>245131.880000</td>\n",
       "      <td>400184.250000</td>\n",
       "      <td>567595.430000</td>\n",
       "      <td>567595.430000</td>\n",
       "      <td>2014.000000</td>\n",
       "    </tr>\n",
       "  </tbody>\n",
       "</table>\n",
       "</div>"
      ],
      "text/plain": [
       "                  Id    OvertimePay       OtherPay       TotalPay  \\\n",
       "count  148654.000000  148650.000000  148650.000000  148654.000000   \n",
       "mean    74327.500000    5066.059886    3648.767297   74768.321972   \n",
       "std     42912.857795   11454.380559    8056.601866   50517.005274   \n",
       "min         1.000000      -0.010000   -7058.590000    -618.130000   \n",
       "25%     37164.250000       0.000000       0.000000   36168.995000   \n",
       "50%     74327.500000       0.000000     811.270000   71426.610000   \n",
       "75%    111490.750000    4658.175000    4236.065000  105839.135000   \n",
       "max    148654.000000  245131.880000  400184.250000  567595.430000   \n",
       "\n",
       "       TotalPayBenefits           Year  \n",
       "count     148654.000000  148654.000000  \n",
       "mean       93692.554811    2012.522643  \n",
       "std        62793.533483       1.117538  \n",
       "min         -618.130000    2011.000000  \n",
       "25%        44065.650000    2012.000000  \n",
       "50%        92404.090000    2013.000000  \n",
       "75%       132876.450000    2014.000000  \n",
       "max       567595.430000    2014.000000  "
      ]
     },
     "execution_count": 52,
     "metadata": {},
     "output_type": "execute_result"
    }
   ],
   "source": [
    "Salaries.describe()"
   ]
  },
  {
   "cell_type": "markdown",
   "id": "8a3e5db1-d784-45db-9538-d3abf5b29cb5",
   "metadata": {},
   "source": [
    "<br><i>what is the average BasePay ??"
   ]
  },
  {
   "cell_type": "code",
   "execution_count": 55,
   "id": "76b8f5b9-bfeb-4462-b0b2-ade63f8ae03e",
   "metadata": {},
   "outputs": [
    {
     "data": {
      "text/html": [
       "<div>\n",
       "<style scoped>\n",
       "    .dataframe tbody tr th:only-of-type {\n",
       "        vertical-align: middle;\n",
       "    }\n",
       "\n",
       "    .dataframe tbody tr th {\n",
       "        vertical-align: top;\n",
       "    }\n",
       "\n",
       "    .dataframe thead th {\n",
       "        text-align: right;\n",
       "    }\n",
       "</style>\n",
       "<table border=\"1\" class=\"dataframe\">\n",
       "  <thead>\n",
       "    <tr style=\"text-align: right;\">\n",
       "      <th></th>\n",
       "      <th>AVG(BasePay)</th>\n",
       "    </tr>\n",
       "  </thead>\n",
       "  <tbody>\n",
       "    <tr>\n",
       "      <th>0</th>\n",
       "      <td>66053.729288</td>\n",
       "    </tr>\n",
       "  </tbody>\n",
       "</table>\n",
       "</div>"
      ],
      "text/plain": [
       "   AVG(BasePay)\n",
       "0  66053.729288"
      ]
     },
     "execution_count": 55,
     "metadata": {},
     "output_type": "execute_result"
    }
   ],
   "source": [
    "avg_basePay = pd.read_sql('select AVG(BasePay) from Salaries',conn)\n",
    "avg_basePay"
   ]
  },
  {
   "cell_type": "markdown",
   "id": "248ded9f-0de4-460e-91df-320573122df4",
   "metadata": {},
   "source": [
    "<br><i>what is the highest amount of the TotalPay ??"
   ]
  },
  {
   "cell_type": "code",
   "execution_count": 60,
   "id": "ded1cc89-efcd-42cc-a2bf-f3b8d7cf57e6",
   "metadata": {},
   "outputs": [
    {
     "data": {
      "text/html": [
       "<div>\n",
       "<style scoped>\n",
       "    .dataframe tbody tr th:only-of-type {\n",
       "        vertical-align: middle;\n",
       "    }\n",
       "\n",
       "    .dataframe tbody tr th {\n",
       "        vertical-align: top;\n",
       "    }\n",
       "\n",
       "    .dataframe thead th {\n",
       "        text-align: right;\n",
       "    }\n",
       "</style>\n",
       "<table border=\"1\" class=\"dataframe\">\n",
       "  <thead>\n",
       "    <tr style=\"text-align: right;\">\n",
       "      <th></th>\n",
       "      <th>MAX(TotalPay)</th>\n",
       "    </tr>\n",
       "  </thead>\n",
       "  <tbody>\n",
       "    <tr>\n",
       "      <th>0</th>\n",
       "      <td>567595.43</td>\n",
       "    </tr>\n",
       "  </tbody>\n",
       "</table>\n",
       "</div>"
      ],
      "text/plain": [
       "   MAX(TotalPay)\n",
       "0      567595.43"
      ]
     },
     "execution_count": 60,
     "metadata": {},
     "output_type": "execute_result"
    }
   ],
   "source": [
    "Max_Overtime = pd.read_sql('select MAX(TotalPay) from Salaries',conn)\n",
    "Max_Overtime"
   ]
  },
  {
   "cell_type": "markdown",
   "id": "baf0d16f-cfed-4a46-b441-f9db3ac6faa8",
   "metadata": {},
   "source": [
    "<br><i>what is the TotalPay of ALBERT PARDINI (inclduding benefits)??"
   ]
  },
  {
   "cell_type": "code",
   "execution_count": 61,
   "id": "495da782-437f-4795-9245-a666732b28ff",
   "metadata": {},
   "outputs": [
    {
     "data": {
      "text/html": [
       "<div>\n",
       "<style scoped>\n",
       "    .dataframe tbody tr th:only-of-type {\n",
       "        vertical-align: middle;\n",
       "    }\n",
       "\n",
       "    .dataframe tbody tr th {\n",
       "        vertical-align: top;\n",
       "    }\n",
       "\n",
       "    .dataframe thead th {\n",
       "        text-align: right;\n",
       "    }\n",
       "</style>\n",
       "<table border=\"1\" class=\"dataframe\">\n",
       "  <thead>\n",
       "    <tr style=\"text-align: right;\">\n",
       "      <th></th>\n",
       "      <th>TotalPayBenefits</th>\n",
       "    </tr>\n",
       "  </thead>\n",
       "  <tbody>\n",
       "    <tr>\n",
       "      <th>0</th>\n",
       "      <td>335279.91</td>\n",
       "    </tr>\n",
       "  </tbody>\n",
       "</table>\n",
       "</div>"
      ],
      "text/plain": [
       "   TotalPayBenefits\n",
       "0         335279.91"
      ]
     },
     "execution_count": 61,
     "metadata": {},
     "output_type": "execute_result"
    }
   ],
   "source": [
    "ALBERT_TotalPay = pd.read_sql('select TotalPayBenefits from Salaries where EmployeeName = \"ALBERT PARDINI\"'\n",
    "                              ,conn)\n",
    "ALBERT_TotalPay"
   ]
  },
  {
   "cell_type": "markdown",
   "id": "5e30de1d-4ec7-4c4b-8d27-739b1b8e2977",
   "metadata": {},
   "source": [
    "<br><i>what is the name of the highest and lowest paid person??"
   ]
  },
  {
   "cell_type": "code",
   "execution_count": 70,
   "id": "8f683f6a-7c6a-4075-baba-4102f628f83b",
   "metadata": {},
   "outputs": [
    {
     "data": {
      "text/html": [
       "<div>\n",
       "<style scoped>\n",
       "    .dataframe tbody tr th:only-of-type {\n",
       "        vertical-align: middle;\n",
       "    }\n",
       "\n",
       "    .dataframe tbody tr th {\n",
       "        vertical-align: top;\n",
       "    }\n",
       "\n",
       "    .dataframe thead th {\n",
       "        text-align: right;\n",
       "    }\n",
       "</style>\n",
       "<table border=\"1\" class=\"dataframe\">\n",
       "  <thead>\n",
       "    <tr style=\"text-align: right;\">\n",
       "      <th></th>\n",
       "      <th>EmployeeName</th>\n",
       "    </tr>\n",
       "  </thead>\n",
       "  <tbody>\n",
       "    <tr>\n",
       "      <th>0</th>\n",
       "      <td>NATHANIEL FORD</td>\n",
       "    </tr>\n",
       "  </tbody>\n",
       "</table>\n",
       "</div>"
      ],
      "text/plain": [
       "     EmployeeName\n",
       "0  NATHANIEL FORD"
      ]
     },
     "execution_count": 70,
     "metadata": {},
     "output_type": "execute_result"
    }
   ],
   "source": [
    "Highest_paid = pd.read_sql('''select EmployeeName from Salaries where\n",
    "                           TotalPayBenefits = (select MAX(TotalPayBenefits) from Salaries)''',conn)\n",
    "Highest_paid"
   ]
  },
  {
   "cell_type": "code",
   "execution_count": 71,
   "id": "e8e3817c-94fd-4d10-8c58-6156d07fb319",
   "metadata": {},
   "outputs": [
    {
     "data": {
      "text/html": [
       "<div>\n",
       "<style scoped>\n",
       "    .dataframe tbody tr th:only-of-type {\n",
       "        vertical-align: middle;\n",
       "    }\n",
       "\n",
       "    .dataframe tbody tr th {\n",
       "        vertical-align: top;\n",
       "    }\n",
       "\n",
       "    .dataframe thead th {\n",
       "        text-align: right;\n",
       "    }\n",
       "</style>\n",
       "<table border=\"1\" class=\"dataframe\">\n",
       "  <thead>\n",
       "    <tr style=\"text-align: right;\">\n",
       "      <th></th>\n",
       "      <th>EmployeeName</th>\n",
       "    </tr>\n",
       "  </thead>\n",
       "  <tbody>\n",
       "    <tr>\n",
       "      <th>0</th>\n",
       "      <td>Joe Lopez</td>\n",
       "    </tr>\n",
       "  </tbody>\n",
       "</table>\n",
       "</div>"
      ],
      "text/plain": [
       "  EmployeeName\n",
       "0    Joe Lopez"
      ]
     },
     "execution_count": 71,
     "metadata": {},
     "output_type": "execute_result"
    }
   ],
   "source": [
    "Lowest_paid = pd.read_sql('''select EmployeeName from Salaries where\n",
    "                           TotalPayBenefits = (select MIN(TotalPayBenefits) from Salaries)''',conn)\n",
    "Lowest_paid"
   ]
  },
  {
   "cell_type": "code",
   "execution_count": 73,
   "id": "45663d7a-f140-4261-8a3b-545c4d72733a",
   "metadata": {},
   "outputs": [
    {
     "data": {
      "text/html": [
       "<div>\n",
       "<style scoped>\n",
       "    .dataframe tbody tr th:only-of-type {\n",
       "        vertical-align: middle;\n",
       "    }\n",
       "\n",
       "    .dataframe tbody tr th {\n",
       "        vertical-align: top;\n",
       "    }\n",
       "\n",
       "    .dataframe thead th {\n",
       "        text-align: right;\n",
       "    }\n",
       "</style>\n",
       "<table border=\"1\" class=\"dataframe\">\n",
       "  <thead>\n",
       "    <tr style=\"text-align: right;\">\n",
       "      <th></th>\n",
       "      <th>Id</th>\n",
       "      <th>EmployeeName</th>\n",
       "      <th>JobTitle</th>\n",
       "      <th>BasePay</th>\n",
       "      <th>OvertimePay</th>\n",
       "      <th>OtherPay</th>\n",
       "      <th>Benefits</th>\n",
       "      <th>TotalPay</th>\n",
       "      <th>TotalPayBenefits</th>\n",
       "      <th>Year</th>\n",
       "      <th>Notes</th>\n",
       "      <th>Agency</th>\n",
       "      <th>Status</th>\n",
       "    </tr>\n",
       "  </thead>\n",
       "  <tbody>\n",
       "    <tr>\n",
       "      <th>0</th>\n",
       "      <td>148654</td>\n",
       "      <td>Joe Lopez</td>\n",
       "      <td>Counselor, Log Cabin Ranch</td>\n",
       "      <td>0</td>\n",
       "      <td>0</td>\n",
       "      <td>-618.13</td>\n",
       "      <td>0</td>\n",
       "      <td>-618.13</td>\n",
       "      <td>-618.13</td>\n",
       "      <td>2014</td>\n",
       "      <td></td>\n",
       "      <td>San Francisco</td>\n",
       "      <td>PT</td>\n",
       "    </tr>\n",
       "  </tbody>\n",
       "</table>\n",
       "</div>"
      ],
      "text/plain": [
       "       Id EmployeeName                    JobTitle  BasePay  OvertimePay  \\\n",
       "0  148654    Joe Lopez  Counselor, Log Cabin Ranch        0            0   \n",
       "\n",
       "   OtherPay  Benefits  TotalPay  TotalPayBenefits  Year Notes         Agency  \\\n",
       "0   -618.13         0   -618.13           -618.13  2014        San Francisco   \n",
       "\n",
       "  Status  \n",
       "0     PT  "
      ]
     },
     "execution_count": 73,
     "metadata": {},
     "output_type": "execute_result"
    }
   ],
   "source": [
    "Lowest_paid_info = pd.read_sql('''select * from Salaries where\n",
    "                           TotalPayBenefits = (select MIN(TotalPayBenefits) from Salaries)''',conn)\n",
    "Lowest_paid_info"
   ]
  },
  {
   "cell_type": "code",
   "execution_count": 76,
   "id": "6563053d-a6f1-4a35-bd39-3e4f508307b3",
   "metadata": {},
   "outputs": [
    {
     "data": {
      "text/html": [
       "<div>\n",
       "<style scoped>\n",
       "    .dataframe tbody tr th:only-of-type {\n",
       "        vertical-align: middle;\n",
       "    }\n",
       "\n",
       "    .dataframe tbody tr th {\n",
       "        vertical-align: top;\n",
       "    }\n",
       "\n",
       "    .dataframe thead th {\n",
       "        text-align: right;\n",
       "    }\n",
       "</style>\n",
       "<table border=\"1\" class=\"dataframe\">\n",
       "  <thead>\n",
       "    <tr style=\"text-align: right;\">\n",
       "      <th></th>\n",
       "      <th>Count(Id)</th>\n",
       "    </tr>\n",
       "  </thead>\n",
       "  <tbody>\n",
       "    <tr>\n",
       "      <th>0</th>\n",
       "      <td>34</td>\n",
       "    </tr>\n",
       "  </tbody>\n",
       "</table>\n",
       "</div>"
      ],
      "text/plain": [
       "   Count(Id)\n",
       "0         34"
      ]
     },
     "execution_count": 76,
     "metadata": {},
     "output_type": "execute_result"
    }
   ],
   "source": [
    "#we notic that there is employees who do not take a salary or owe to the company\n",
    "#we will count their number\n",
    "Owe_emp = pd.read_sql('select Count(Id) from Salaries where TotalPayBenefits <= 0',conn)\n",
    "Owe_emp"
   ]
  },
  {
   "cell_type": "markdown",
   "id": "922ec514-2649-409c-abae-f5e749e11eac",
   "metadata": {},
   "source": [
    "<br><i>what was the avarage of the TotalPay of all the employees per Year?? "
   ]
  },
  {
   "cell_type": "code",
   "execution_count": 89,
   "id": "da98ddac-77f1-4328-9a8c-2eea479305f0",
   "metadata": {},
   "outputs": [
    {
     "data": {
      "text/html": [
       "<div>\n",
       "<style scoped>\n",
       "    .dataframe tbody tr th:only-of-type {\n",
       "        vertical-align: middle;\n",
       "    }\n",
       "\n",
       "    .dataframe tbody tr th {\n",
       "        vertical-align: top;\n",
       "    }\n",
       "\n",
       "    .dataframe thead th {\n",
       "        text-align: right;\n",
       "    }\n",
       "</style>\n",
       "<table border=\"1\" class=\"dataframe\">\n",
       "  <thead>\n",
       "    <tr style=\"text-align: right;\">\n",
       "      <th></th>\n",
       "      <th>Year</th>\n",
       "      <th>AVG(TotalPay)</th>\n",
       "    </tr>\n",
       "  </thead>\n",
       "  <tbody>\n",
       "    <tr>\n",
       "      <th>0</th>\n",
       "      <td>2011</td>\n",
       "      <td>71744.103871</td>\n",
       "    </tr>\n",
       "    <tr>\n",
       "      <th>1</th>\n",
       "      <td>2012</td>\n",
       "      <td>74113.262265</td>\n",
       "    </tr>\n",
       "    <tr>\n",
       "      <th>2</th>\n",
       "      <td>2013</td>\n",
       "      <td>77611.443142</td>\n",
       "    </tr>\n",
       "    <tr>\n",
       "      <th>3</th>\n",
       "      <td>2014</td>\n",
       "      <td>75463.918140</td>\n",
       "    </tr>\n",
       "  </tbody>\n",
       "</table>\n",
       "</div>"
      ],
      "text/plain": [
       "   Year  AVG(TotalPay)\n",
       "0  2011   71744.103871\n",
       "1  2012   74113.262265\n",
       "2  2013   77611.443142\n",
       "3  2014   75463.918140"
      ]
     },
     "execution_count": 89,
     "metadata": {},
     "output_type": "execute_result"
    }
   ],
   "source": [
    "avg_salary_year = pd.read_sql('select Year,AVG(TotalPay) from Salaries GROUP BY Year',conn)\n",
    "avg_salary_year"
   ]
  },
  {
   "cell_type": "markdown",
   "id": "0425441e-4b08-4ab9-a8de-5163d2b9271b",
   "metadata": {},
   "source": [
    "<br><i>what are the most common jobs?? \n"
   ]
  },
  {
   "cell_type": "code",
   "execution_count": 113,
   "id": "41e44d34-3921-4839-a997-c2915ad7e7d9",
   "metadata": {},
   "outputs": [
    {
     "data": {
      "text/html": [
       "<div>\n",
       "<style scoped>\n",
       "    .dataframe tbody tr th:only-of-type {\n",
       "        vertical-align: middle;\n",
       "    }\n",
       "\n",
       "    .dataframe tbody tr th {\n",
       "        vertical-align: top;\n",
       "    }\n",
       "\n",
       "    .dataframe thead th {\n",
       "        text-align: right;\n",
       "    }\n",
       "</style>\n",
       "<table border=\"1\" class=\"dataframe\">\n",
       "  <thead>\n",
       "    <tr style=\"text-align: right;\">\n",
       "      <th></th>\n",
       "      <th>JobTitle</th>\n",
       "      <th>count</th>\n",
       "    </tr>\n",
       "  </thead>\n",
       "  <tbody>\n",
       "    <tr>\n",
       "      <th>0</th>\n",
       "      <td>Transit Operator</td>\n",
       "      <td>7036</td>\n",
       "    </tr>\n",
       "    <tr>\n",
       "      <th>1</th>\n",
       "      <td>Special Nurse</td>\n",
       "      <td>4389</td>\n",
       "    </tr>\n",
       "    <tr>\n",
       "      <th>2</th>\n",
       "      <td>Registered Nurse</td>\n",
       "      <td>3736</td>\n",
       "    </tr>\n",
       "    <tr>\n",
       "      <th>3</th>\n",
       "      <td>Public Svc Aide-Public Works</td>\n",
       "      <td>2518</td>\n",
       "    </tr>\n",
       "    <tr>\n",
       "      <th>4</th>\n",
       "      <td>Police Officer 3</td>\n",
       "      <td>2421</td>\n",
       "    </tr>\n",
       "  </tbody>\n",
       "</table>\n",
       "</div>"
      ],
      "text/plain": [
       "                       JobTitle  count\n",
       "0              Transit Operator   7036\n",
       "1                 Special Nurse   4389\n",
       "2              Registered Nurse   3736\n",
       "3  Public Svc Aide-Public Works   2518\n",
       "4              Police Officer 3   2421"
      ]
     },
     "execution_count": 113,
     "metadata": {},
     "output_type": "execute_result"
    }
   ],
   "source": [
    "common_jobs = pd.read_sql('''select distinct(JobTitle) , Count(JobTitle) as count \n",
    "                          from Salaries \n",
    "                          GROUP BY JobTitle \n",
    "                          ORDER BY count DESC \n",
    "                          LIMIT 5''',conn)\n",
    "common_jobs"
   ]
  },
  {
   "cell_type": "markdown",
   "id": "f8c03410-1158-4a00-ba4e-9dbb5c5ad5f1",
   "metadata": {},
   "source": [
    "<br><i>How many job titles were represented by only 1 person in 2013?? "
   ]
  },
  {
   "cell_type": "code",
   "execution_count": 117,
   "id": "b675bf13-ba42-454c-a644-6ff344cec7cd",
   "metadata": {},
   "outputs": [
    {
     "data": {
      "text/html": [
       "<div>\n",
       "<style scoped>\n",
       "    .dataframe tbody tr th:only-of-type {\n",
       "        vertical-align: middle;\n",
       "    }\n",
       "\n",
       "    .dataframe tbody tr th {\n",
       "        vertical-align: top;\n",
       "    }\n",
       "\n",
       "    .dataframe thead th {\n",
       "        text-align: right;\n",
       "    }\n",
       "</style>\n",
       "<table border=\"1\" class=\"dataframe\">\n",
       "  <thead>\n",
       "    <tr style=\"text-align: right;\">\n",
       "      <th></th>\n",
       "      <th>Count(JobTitle)</th>\n",
       "    </tr>\n",
       "  </thead>\n",
       "  <tbody>\n",
       "    <tr>\n",
       "      <th>0</th>\n",
       "      <td>202</td>\n",
       "    </tr>\n",
       "  </tbody>\n",
       "</table>\n",
       "</div>"
      ],
      "text/plain": [
       "   Count(JobTitle)\n",
       "0              202"
      ]
     },
     "execution_count": 117,
     "metadata": {},
     "output_type": "execute_result"
    }
   ],
   "source": [
    "one_job_title = pd.read_sql('''select Count(JobTitle) from (\n",
    "                            select JobTitle , Count(JobTitle) as count \n",
    "                            from Salaries \n",
    "                            where Year = 2013 \n",
    "                            GROUP BY JobTitle \n",
    "                            HAVING count = 1)''',conn)\n",
    "one_job_title"
   ]
  },
  {
   "cell_type": "markdown",
   "id": "14c6914a-4367-45ec-a96f-e97af840e903",
   "metadata": {},
   "source": [
    "<br><i>How many employees have the word Chief in their job title?? "
   ]
  },
  {
   "cell_type": "code",
   "execution_count": 118,
   "id": "276ee084-ca03-4415-a62b-9627352c6060",
   "metadata": {},
   "outputs": [
    {
     "data": {
      "text/html": [
       "<div>\n",
       "<style scoped>\n",
       "    .dataframe tbody tr th:only-of-type {\n",
       "        vertical-align: middle;\n",
       "    }\n",
       "\n",
       "    .dataframe tbody tr th {\n",
       "        vertical-align: top;\n",
       "    }\n",
       "\n",
       "    .dataframe thead th {\n",
       "        text-align: right;\n",
       "    }\n",
       "</style>\n",
       "<table border=\"1\" class=\"dataframe\">\n",
       "  <thead>\n",
       "    <tr style=\"text-align: right;\">\n",
       "      <th></th>\n",
       "      <th>Count(EmployeeName)</th>\n",
       "    </tr>\n",
       "  </thead>\n",
       "  <tbody>\n",
       "    <tr>\n",
       "      <th>0</th>\n",
       "      <td>627</td>\n",
       "    </tr>\n",
       "  </tbody>\n",
       "</table>\n",
       "</div>"
      ],
      "text/plain": [
       "   Count(EmployeeName)\n",
       "0                  627"
      ]
     },
     "execution_count": 118,
     "metadata": {},
     "output_type": "execute_result"
    }
   ],
   "source": [
    "Chief_emp = pd.read_sql('select Count(EmployeeName) from Salaries where JobTitle like \"%Chief%\"',conn)\n",
    "Chief_emp"
   ]
  },
  {
   "cell_type": "markdown",
   "id": "979c0549-fb5f-45b8-802f-b53c4f168e45",
   "metadata": {},
   "source": [
    "<br><i>Is there is a correlation between (lenght of the job title string) and (salary)??"
   ]
  },
  {
   "cell_type": "code",
   "execution_count": 126,
   "id": "a122278a-23aa-408b-9243-f83d6f05d23b",
   "metadata": {},
   "outputs": [
    {
     "data": {
      "text/html": [
       "<div>\n",
       "<style scoped>\n",
       "    .dataframe tbody tr th:only-of-type {\n",
       "        vertical-align: middle;\n",
       "    }\n",
       "\n",
       "    .dataframe tbody tr th {\n",
       "        vertical-align: top;\n",
       "    }\n",
       "\n",
       "    .dataframe thead th {\n",
       "        text-align: right;\n",
       "    }\n",
       "</style>\n",
       "<table border=\"1\" class=\"dataframe\">\n",
       "  <thead>\n",
       "    <tr style=\"text-align: right;\">\n",
       "      <th></th>\n",
       "      <th>titles_lenght</th>\n",
       "      <th>TotalPayBenefits</th>\n",
       "    </tr>\n",
       "  </thead>\n",
       "  <tbody>\n",
       "    <tr>\n",
       "      <th>titles_lenght</th>\n",
       "      <td>1.000000</td>\n",
       "      <td>-0.036878</td>\n",
       "    </tr>\n",
       "    <tr>\n",
       "      <th>TotalPayBenefits</th>\n",
       "      <td>-0.036878</td>\n",
       "      <td>1.000000</td>\n",
       "    </tr>\n",
       "  </tbody>\n",
       "</table>\n",
       "</div>"
      ],
      "text/plain": [
       "                  titles_lenght  TotalPayBenefits\n",
       "titles_lenght          1.000000         -0.036878\n",
       "TotalPayBenefits      -0.036878          1.000000"
      ]
     },
     "execution_count": 126,
     "metadata": {},
     "output_type": "execute_result"
    }
   ],
   "source": [
    "Salaries['titles_lenght']= Salaries['JobTitle'].apply(len)  \n",
    "#apply fun is very useful when you want to perform functions and calcs on rows.\n",
    "Salaries['titles_lenght']\n",
    "Salaries[['titles_lenght','TotalPayBenefits']].corr()"
   ]
  },
  {
   "cell_type": "markdown",
   "id": "fe7a79b1-df4b-4ca6-9ba8-98a6450aa5fb",
   "metadata": {},
   "source": [
    "##### <u>Visualizing the correlation"
   ]
  },
  {
   "cell_type": "code",
   "execution_count": 129,
   "id": "bce1a891-25fe-4d5f-8cd0-441764a6e84d",
   "metadata": {},
   "outputs": [
    {
     "data": {
      "image/png": "[encoded data removed]",
      "text/plain": [
       "<Figure size 640x480 with 1 Axes>"
      ]
     },
     "metadata": {},
     "output_type": "display_data"
    }
   ],
   "source": [
    "plt.scatter(Salaries['titles_lenght'], Salaries['TotalPayBenefits'])\n",
    "plt.xlabel('Job Title Length')\n",
    "plt.ylabel('Total Pay Benefits')\n",
    "plt.title('Correlation Between Job Title Length and Total Pay Benefits')\n",
    "plt.show()\n"
   ]
  },
  {
   "cell_type": "markdown",
   "id": "e60f00d9-02e5-498b-9409-9381d59a951a",
   "metadata": {},
   "source": [
    "#### Corr is very very small ,so their is no corr"
   ]
  },
  {
   "cell_type": "markdown",
   "id": "57250dce-8fad-4b18-9b32-c6a75bc2cc18",
   "metadata": {},
   "source": [
    "\n",
    "<br><br> <B>visualizing the 5 number summary of TotalPayBenefits"
   ]
  },
  {
   "cell_type": "code",
   "execution_count": 132,
   "id": "8d7a6aa1-3adf-4a3a-8e57-785611537842",
   "metadata": {},
   "outputs": [
    {
     "data": {
      "text/plain": [
       "Text(0.5, 1.0, '5 number summary of TotalPayBenefits')"
      ]
     },
     "execution_count": 132,
     "metadata": {},
     "output_type": "execute_result"
    },
    {
     "data": {
      "image/png": "[encoded data removed]",
      "text/plain": [
       "<Figure size 800x300 with 1 Axes>"
      ]
     },
     "metadata": {},
     "output_type": "display_data"
    }
   ],
   "source": [
    "plt.figure(figsize=(8,3))\n",
    "sns.boxplot(x=Salaries['TotalPayBenefits']).set_title(\"5 number summary of TotalPayBenefits\")"
   ]
  },
  {
   "cell_type": "markdown",
   "id": "ff345412-4d64-4a30-b229-912b432af04d",
   "metadata": {},
   "source": [
    "### Insight:\n",
    "The most of employees receive a wage with approximately 100000 per year,\n",
    "The number of employees that receive a wage with above 400000 is very small."
   ]
  },
  {
   "cell_type": "markdown",
   "id": "55bf3c70-ee3c-43fe-a975-548d95fe8d3d",
   "metadata": {},
   "source": [
    "<br><i>so, what is the title of these people who take more than 400000??"
   ]
  },
  {
   "cell_type": "code",
   "execution_count": 135,
   "id": "0f90cde2-aece-4c28-9670-6e04d059b9a1",
   "metadata": {},
   "outputs": [
    {
     "data": {
      "text/html": [
       "<div>\n",
       "<style scoped>\n",
       "    .dataframe tbody tr th:only-of-type {\n",
       "        vertical-align: middle;\n",
       "    }\n",
       "\n",
       "    .dataframe tbody tr th {\n",
       "        vertical-align: top;\n",
       "    }\n",
       "\n",
       "    .dataframe thead th {\n",
       "        text-align: right;\n",
       "    }\n",
       "</style>\n",
       "<table border=\"1\" class=\"dataframe\">\n",
       "  <thead>\n",
       "    <tr style=\"text-align: right;\">\n",
       "      <th></th>\n",
       "      <th>JobTitle</th>\n",
       "    </tr>\n",
       "  </thead>\n",
       "  <tbody>\n",
       "    <tr>\n",
       "      <th>0</th>\n",
       "      <td>GENERAL MANAGER-METROPOLITAN TRANSIT AUTHORITY</td>\n",
       "    </tr>\n",
       "    <tr>\n",
       "      <th>1</th>\n",
       "      <td>CAPTAIN III (POLICE DEPARTMENT)</td>\n",
       "    </tr>\n",
       "    <tr>\n",
       "      <th>2</th>\n",
       "      <td>Lieutenant, Fire Suppression</td>\n",
       "    </tr>\n",
       "    <tr>\n",
       "      <th>3</th>\n",
       "      <td>Chief of Police</td>\n",
       "    </tr>\n",
       "    <tr>\n",
       "      <th>4</th>\n",
       "      <td>Chief, Fire Department</td>\n",
       "    </tr>\n",
       "    <tr>\n",
       "      <th>5</th>\n",
       "      <td>Battalion Chief, Fire Suppress</td>\n",
       "    </tr>\n",
       "    <tr>\n",
       "      <th>6</th>\n",
       "      <td>Asst Med Examiner</td>\n",
       "    </tr>\n",
       "    <tr>\n",
       "      <th>7</th>\n",
       "      <td>Deputy Chief 3</td>\n",
       "    </tr>\n",
       "    <tr>\n",
       "      <th>8</th>\n",
       "      <td>Asst Med Examiner</td>\n",
       "    </tr>\n",
       "    <tr>\n",
       "      <th>9</th>\n",
       "      <td>Chief Investment Officer</td>\n",
       "    </tr>\n",
       "    <tr>\n",
       "      <th>10</th>\n",
       "      <td>Chief of Police</td>\n",
       "    </tr>\n",
       "    <tr>\n",
       "      <th>11</th>\n",
       "      <td>Chief, Fire Department</td>\n",
       "    </tr>\n",
       "    <tr>\n",
       "      <th>12</th>\n",
       "      <td>Asst Med Examiner</td>\n",
       "    </tr>\n",
       "    <tr>\n",
       "      <th>13</th>\n",
       "      <td>Dept Head V</td>\n",
       "    </tr>\n",
       "  </tbody>\n",
       "</table>\n",
       "</div>"
      ],
      "text/plain": [
       "                                          JobTitle\n",
       "0   GENERAL MANAGER-METROPOLITAN TRANSIT AUTHORITY\n",
       "1                  CAPTAIN III (POLICE DEPARTMENT)\n",
       "2                     Lieutenant, Fire Suppression\n",
       "3                                  Chief of Police\n",
       "4                           Chief, Fire Department\n",
       "5                   Battalion Chief, Fire Suppress\n",
       "6                                Asst Med Examiner\n",
       "7                                   Deputy Chief 3\n",
       "8                                Asst Med Examiner\n",
       "9                         Chief Investment Officer\n",
       "10                                 Chief of Police\n",
       "11                          Chief, Fire Department\n",
       "12                               Asst Med Examiner\n",
       "13                                     Dept Head V"
      ]
     },
     "execution_count": 135,
     "metadata": {},
     "output_type": "execute_result"
    }
   ],
   "source": [
    "Title = pd.read_sql('select JobTitle from Salaries where TotalPayBenefits > 400000',conn)\n",
    "Title"
   ]
  }
 ],
 "metadata": {
  "kernelspec": {
   "display_name": "Python 3 (ipykernel)",
   "language": "python",
   "name": "python3"
  },
  "language_info": {
   "codemirror_mode": {
    "name": "ipython",
    "version": 3
   },
   "file_extension": ".py",
   "mimetype": "text/x-python",
   "name": "python",
   "nbconvert_exporter": "python",
   "pygments_lexer": "ipython3",
   "version": "3.9.13"
  }
 },
 "nbformat": 4,
 "nbformat_minor": 5
}
